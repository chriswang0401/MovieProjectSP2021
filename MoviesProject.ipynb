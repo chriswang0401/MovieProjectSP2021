{
 "cells": [
  {
   "cell_type": "markdown",
   "metadata": {},
   "source": [
    "This project aims to determine how the factors of a movie's production influence its eventual revenue take. It will focus on things that can be controlled during the actual producing of the movie, like budget and genre, and less on things that are out of the production crew's hands, like economic conditions or marketing success. It will not focus on small projects that cost very little to make and made very little at the box office. More movie theater work, less student or  small indie film. After data cleaning and transforming, results will be obtained by creating a simple linear regression model with revenue as the response variable, and seeing which of the predictor variables are most important and influential. The dataset used in this project can be found at https://www.kaggle.com/rounakbanik/the-movies-dataset. It was created by a data scientist named Rounak Banik and contains various datapoints on over 45,000 movies, with the data having been derived from movie information and review websites like TMDB and GroupLens. Let us start by importing the movies_metadata.csv data and taking a preliminary look at it.\n",
    "\n",
    "NOTE: Code used for preliminary exploring/\"probing\" of data can be found at end of notebook."
   ]
  },
  {
   "cell_type": "code",
   "execution_count": 1,
   "metadata": {},
   "outputs": [],
   "source": [
    "import pandas as pd\n",
    "import numpy as np"
   ]
  },
  {
   "cell_type": "code",
   "execution_count": 2,
   "metadata": {},
   "outputs": [
    {
     "data": {
      "text/html": [
       "<div>\n",
       "<style scoped>\n",
       "    .dataframe tbody tr th:only-of-type {\n",
       "        vertical-align: middle;\n",
       "    }\n",
       "\n",
       "    .dataframe tbody tr th {\n",
       "        vertical-align: top;\n",
       "    }\n",
       "\n",
       "    .dataframe thead th {\n",
       "        text-align: right;\n",
       "    }\n",
       "</style>\n",
       "<table border=\"1\" class=\"dataframe\">\n",
       "  <thead>\n",
       "    <tr style=\"text-align: right;\">\n",
       "      <th></th>\n",
       "      <th>adult</th>\n",
       "      <th>belongs_to_collection</th>\n",
       "      <th>budget</th>\n",
       "      <th>genres</th>\n",
       "      <th>homepage</th>\n",
       "      <th>id</th>\n",
       "      <th>imdb_id</th>\n",
       "      <th>original_language</th>\n",
       "      <th>original_title</th>\n",
       "      <th>overview</th>\n",
       "      <th>...</th>\n",
       "      <th>release_date</th>\n",
       "      <th>revenue</th>\n",
       "      <th>runtime</th>\n",
       "      <th>spoken_languages</th>\n",
       "      <th>status</th>\n",
       "      <th>tagline</th>\n",
       "      <th>title</th>\n",
       "      <th>video</th>\n",
       "      <th>vote_average</th>\n",
       "      <th>vote_count</th>\n",
       "    </tr>\n",
       "  </thead>\n",
       "  <tbody>\n",
       "    <tr>\n",
       "      <th>0</th>\n",
       "      <td>False</td>\n",
       "      <td>NaN</td>\n",
       "      <td>0</td>\n",
       "      <td>[{'id': 18, 'name': 'Drama'}]</td>\n",
       "      <td>NaN</td>\n",
       "      <td>6934</td>\n",
       "      <td>tt0419279</td>\n",
       "      <td>zu</td>\n",
       "      <td>Yesterday</td>\n",
       "      <td>After falling ill, Yesterday learns that she i...</td>\n",
       "      <td>...</td>\n",
       "      <td>9/3/2004</td>\n",
       "      <td>0.0</td>\n",
       "      <td>96.0</td>\n",
       "      <td>[{'iso_639_1': 'zu', 'name': 'isiZulu'}]</td>\n",
       "      <td>Released</td>\n",
       "      <td>NaN</td>\n",
       "      <td>Yesterday</td>\n",
       "      <td>False</td>\n",
       "      <td>8.3</td>\n",
       "      <td>6.0</td>\n",
       "    </tr>\n",
       "    <tr>\n",
       "      <th>1</th>\n",
       "      <td>False</td>\n",
       "      <td>NaN</td>\n",
       "      <td>94000000</td>\n",
       "      <td>[{'id': 18, 'name': 'Drama'}, {'id': 36, 'name...</td>\n",
       "      <td>http://www.theflowersofwarmovie.com/</td>\n",
       "      <td>76758</td>\n",
       "      <td>tt1410063</td>\n",
       "      <td>zh</td>\n",
       "      <td>金陵十三釵</td>\n",
       "      <td>A Westerner finds refuge with a group of women...</td>\n",
       "      <td>...</td>\n",
       "      <td>12/15/2011</td>\n",
       "      <td>95311434.0</td>\n",
       "      <td>145.0</td>\n",
       "      <td>[{'iso_639_1': 'zh', 'name': '普通话'}, {'iso_639...</td>\n",
       "      <td>Released</td>\n",
       "      <td>NaN</td>\n",
       "      <td>The Flowers of War</td>\n",
       "      <td>False</td>\n",
       "      <td>7.1</td>\n",
       "      <td>193.0</td>\n",
       "    </tr>\n",
       "    <tr>\n",
       "      <th>2</th>\n",
       "      <td>False</td>\n",
       "      <td>{'id': 392206, 'name': 'The Monkey King Collec...</td>\n",
       "      <td>82000000</td>\n",
       "      <td>[{'id': 28, 'name': 'Action'}, {'id': 12, 'nam...</td>\n",
       "      <td>http://themonkeyking.com/</td>\n",
       "      <td>119892</td>\n",
       "      <td>tt1717715</td>\n",
       "      <td>zh</td>\n",
       "      <td>西遊記之大鬧天宮</td>\n",
       "      <td>Sun Wukong, (The Monkey King) is a monkey born...</td>\n",
       "      <td>...</td>\n",
       "      <td>1/9/2014</td>\n",
       "      <td>0.0</td>\n",
       "      <td>119.0</td>\n",
       "      <td>[{'iso_639_1': 'zh', 'name': '普通话'}, {'iso_639...</td>\n",
       "      <td>Released</td>\n",
       "      <td>Havoc in Heaven</td>\n",
       "      <td>The Monkey King</td>\n",
       "      <td>False</td>\n",
       "      <td>4.8</td>\n",
       "      <td>52.0</td>\n",
       "    </tr>\n",
       "    <tr>\n",
       "      <th>3</th>\n",
       "      <td>False</td>\n",
       "      <td>{'id': 96677, 'name': 'Red Cliff Collection', ...</td>\n",
       "      <td>80341000</td>\n",
       "      <td>[{'id': 12, 'name': 'Adventure'}, {'id': 18, '...</td>\n",
       "      <td>http://www.redclifffilm.com</td>\n",
       "      <td>12289</td>\n",
       "      <td>tt0425637</td>\n",
       "      <td>zh</td>\n",
       "      <td>Chi bi</td>\n",
       "      <td>In the early third century, the land of Wu is ...</td>\n",
       "      <td>...</td>\n",
       "      <td>7/10/2008</td>\n",
       "      <td>127814609.0</td>\n",
       "      <td>150.0</td>\n",
       "      <td>[{'iso_639_1': 'zh', 'name': '普通话'}, {'iso_639...</td>\n",
       "      <td>Released</td>\n",
       "      <td>The future will be decided.</td>\n",
       "      <td>Red Cliff</td>\n",
       "      <td>False</td>\n",
       "      <td>7.1</td>\n",
       "      <td>207.0</td>\n",
       "    </tr>\n",
       "    <tr>\n",
       "      <th>4</th>\n",
       "      <td>False</td>\n",
       "      <td>{'id': 96677, 'name': 'Red Cliff Collection', ...</td>\n",
       "      <td>80000000</td>\n",
       "      <td>[{'id': 10752, 'name': 'War'}, {'id': 28, 'nam...</td>\n",
       "      <td>http://www.redclifffilm.com</td>\n",
       "      <td>15384</td>\n",
       "      <td>tt1326972</td>\n",
       "      <td>zh</td>\n",
       "      <td>赤壁 2</td>\n",
       "      <td>In 208 A.D., in the final days of the Han Dyna...</td>\n",
       "      <td>...</td>\n",
       "      <td>1/7/2009</td>\n",
       "      <td>121059225.0</td>\n",
       "      <td>136.0</td>\n",
       "      <td>[{'iso_639_1': 'zh', 'name': '普通话'}, {'iso_639...</td>\n",
       "      <td>Released</td>\n",
       "      <td>Destiny Lies In The Wind</td>\n",
       "      <td>Red Cliff Part II</td>\n",
       "      <td>False</td>\n",
       "      <td>7.1</td>\n",
       "      <td>110.0</td>\n",
       "    </tr>\n",
       "  </tbody>\n",
       "</table>\n",
       "<p>5 rows × 24 columns</p>\n",
       "</div>"
      ],
      "text/plain": [
       "   adult                              belongs_to_collection    budget  \\\n",
       "0  False                                                NaN         0   \n",
       "1  False                                                NaN  94000000   \n",
       "2  False  {'id': 392206, 'name': 'The Monkey King Collec...  82000000   \n",
       "3  False  {'id': 96677, 'name': 'Red Cliff Collection', ...  80341000   \n",
       "4  False  {'id': 96677, 'name': 'Red Cliff Collection', ...  80000000   \n",
       "\n",
       "                                              genres  \\\n",
       "0                      [{'id': 18, 'name': 'Drama'}]   \n",
       "1  [{'id': 18, 'name': 'Drama'}, {'id': 36, 'name...   \n",
       "2  [{'id': 28, 'name': 'Action'}, {'id': 12, 'nam...   \n",
       "3  [{'id': 12, 'name': 'Adventure'}, {'id': 18, '...   \n",
       "4  [{'id': 10752, 'name': 'War'}, {'id': 28, 'nam...   \n",
       "\n",
       "                               homepage      id    imdb_id original_language  \\\n",
       "0                                   NaN    6934  tt0419279                zu   \n",
       "1  http://www.theflowersofwarmovie.com/   76758  tt1410063                zh   \n",
       "2             http://themonkeyking.com/  119892  tt1717715                zh   \n",
       "3           http://www.redclifffilm.com   12289  tt0425637                zh   \n",
       "4           http://www.redclifffilm.com   15384  tt1326972                zh   \n",
       "\n",
       "  original_title                                           overview  ...  \\\n",
       "0      Yesterday  After falling ill, Yesterday learns that she i...  ...   \n",
       "1          金陵十三釵  A Westerner finds refuge with a group of women...  ...   \n",
       "2       西遊記之大鬧天宮  Sun Wukong, (The Monkey King) is a monkey born...  ...   \n",
       "3         Chi bi  In the early third century, the land of Wu is ...  ...   \n",
       "4           赤壁 2  In 208 A.D., in the final days of the Han Dyna...  ...   \n",
       "\n",
       "   release_date      revenue runtime  \\\n",
       "0      9/3/2004          0.0    96.0   \n",
       "1    12/15/2011   95311434.0   145.0   \n",
       "2      1/9/2014          0.0   119.0   \n",
       "3     7/10/2008  127814609.0   150.0   \n",
       "4      1/7/2009  121059225.0   136.0   \n",
       "\n",
       "                                    spoken_languages    status  \\\n",
       "0           [{'iso_639_1': 'zu', 'name': 'isiZulu'}]  Released   \n",
       "1  [{'iso_639_1': 'zh', 'name': '普通话'}, {'iso_639...  Released   \n",
       "2  [{'iso_639_1': 'zh', 'name': '普通话'}, {'iso_639...  Released   \n",
       "3  [{'iso_639_1': 'zh', 'name': '普通话'}, {'iso_639...  Released   \n",
       "4  [{'iso_639_1': 'zh', 'name': '普通话'}, {'iso_639...  Released   \n",
       "\n",
       "                       tagline               title  video vote_average  \\\n",
       "0                          NaN           Yesterday  False          8.3   \n",
       "1                          NaN  The Flowers of War  False          7.1   \n",
       "2              Havoc in Heaven     The Monkey King  False          4.8   \n",
       "3  The future will be decided.           Red Cliff  False          7.1   \n",
       "4     Destiny Lies In The Wind   Red Cliff Part II  False          7.1   \n",
       "\n",
       "  vote_count  \n",
       "0        6.0  \n",
       "1      193.0  \n",
       "2       52.0  \n",
       "3      207.0  \n",
       "4      110.0  \n",
       "\n",
       "[5 rows x 24 columns]"
      ]
     },
     "execution_count": 2,
     "metadata": {},
     "output_type": "execute_result"
    }
   ],
   "source": [
    "df = pd.read_csv(\"movies_metadata.csv\")\n",
    "df.head()"
   ]
  },
  {
   "cell_type": "code",
   "execution_count": 3,
   "metadata": {},
   "outputs": [
    {
     "name": "stdout",
     "output_type": "stream",
     "text": [
      "<class 'pandas.core.frame.DataFrame'>\n",
      "RangeIndex: 45463 entries, 0 to 45462\n",
      "Data columns (total 24 columns):\n",
      " #   Column                 Non-Null Count  Dtype  \n",
      "---  ------                 --------------  -----  \n",
      " 0   adult                  45463 non-null  bool   \n",
      " 1   belongs_to_collection  4491 non-null   object \n",
      " 2   budget                 45463 non-null  int64  \n",
      " 3   genres                 45463 non-null  object \n",
      " 4   homepage               7779 non-null   object \n",
      " 5   id                     45463 non-null  int64  \n",
      " 6   imdb_id                45446 non-null  object \n",
      " 7   original_language      45452 non-null  object \n",
      " 8   original_title         45463 non-null  object \n",
      " 9   overview               44509 non-null  object \n",
      " 10  popularity             45460 non-null  float64\n",
      " 11  poster_path            45077 non-null  object \n",
      " 12  production_companies   45460 non-null  object \n",
      " 13  production_countries   45460 non-null  object \n",
      " 14  release_date           45376 non-null  object \n",
      " 15  revenue                45460 non-null  float64\n",
      " 16  runtime                45203 non-null  float64\n",
      " 17  spoken_languages       45460 non-null  object \n",
      " 18  status                 45379 non-null  object \n",
      " 19  tagline                20412 non-null  object \n",
      " 20  title                  45460 non-null  object \n",
      " 21  video                  45460 non-null  object \n",
      " 22  vote_average           45460 non-null  float64\n",
      " 23  vote_count             45460 non-null  float64\n",
      "dtypes: bool(1), float64(5), int64(2), object(16)\n",
      "memory usage: 8.0+ MB\n"
     ]
    }
   ],
   "source": [
    "df.info()"
   ]
  },
  {
   "cell_type": "markdown",
   "metadata": {},
   "source": [
    "We can see there are plenty of columns here. Before removing any variables, let us first create a few new variables to more easily utilize our dataset. These will largely take the form of transforming a object/string column into a boolean column.$\\newline$ \n",
    "belongs_to_collection currently stores a string that corresponds to any series that movie is a part of. We will turn this into a boolean where True means the movie is a part of a series, and False means the movie is independent. $\\newline$\n",
    "original_language contains a two-letter abbreviation of the primary language spoken in the film. From this, original_english and original_chinese boolean variables will be created that is True when the movie's original_language is English (en) or Chinese (zh) respectively, and False when it is not. $\\newline$\n",
    "A series of genre boolean variables will be created to split apart the genres variable into multiple columns. From the genres in the dataset, we will use action_adventure, drama, thriller_horror, and comedy as our genres. It should be noted these are nonexclusive; a movie can contain True values in multiple genres. $\\newline$\n",
    "We may also need to transform the release_date column into something more workable, as it is currently a series of non-numeric strings. $\\newline$\n",
    "Let's start with belongs_to_collection. We can accomplish this change by creating a series using .map(), and assigning this series to the original column."
   ]
  },
  {
   "cell_type": "code",
   "execution_count": 4,
   "metadata": {},
   "outputs": [
    {
     "data": {
      "text/plain": [
       "0                                                      NaN\n",
       "1                                                      NaN\n",
       "2        {'id': 392206, 'name': 'The Monkey King Collec...\n",
       "3        {'id': 96677, 'name': 'Red Cliff Collection', ...\n",
       "4        {'id': 96677, 'name': 'Red Cliff Collection', ...\n",
       "                               ...                        \n",
       "45458                                                  NaN\n",
       "45459                                                  NaN\n",
       "45460                                                  NaN\n",
       "45461                                                  NaN\n",
       "45462                                                  NaN\n",
       "Name: belongs_to_collection, Length: 45463, dtype: object"
      ]
     },
     "execution_count": 4,
     "metadata": {},
     "output_type": "execute_result"
    }
   ],
   "source": [
    "df[\"belongs_to_collection\"]"
   ]
  },
  {
   "cell_type": "code",
   "execution_count": 5,
   "metadata": {},
   "outputs": [
    {
     "data": {
      "text/plain": [
       "0        False\n",
       "1        False\n",
       "2         True\n",
       "3         True\n",
       "4         True\n",
       "         ...  \n",
       "45458    False\n",
       "45459    False\n",
       "45460    False\n",
       "45461    False\n",
       "45462    False\n",
       "Name: belongs_to_collection, Length: 45463, dtype: bool"
      ]
     },
     "execution_count": 5,
     "metadata": {},
     "output_type": "execute_result"
    }
   ],
   "source": [
    "map = {np.nan:False}\n",
    "sub = df[\"belongs_to_collection\"].map(map)\n",
    "map = {np.nan:True, False:False}\n",
    "sub = sub.map(map)\n",
    "df.loc[:,\"belongs_to_collection\"] = sub\n",
    "df[\"belongs_to_collection\"]"
   ]
  },
  {
   "cell_type": "markdown",
   "metadata": {},
   "source": [
    "That's belongs_to_collection done, with previous NaN values becoming False and anything else becoming true. Pandas has also done us the courtesy of making the column a boolean! $\\newline$\n",
    "We'll make the language variables next. Since we need to do two languages, we'll create a function that will do the work. It will also use .map() to accomplish our task. Note: zh corresponds to Chinese since \"Chinese\" in Chinese is \"zhong wen.\""
   ]
  },
  {
   "cell_type": "code",
   "execution_count": 6,
   "metadata": {},
   "outputs": [
    {
     "data": {
      "text/plain": [
       "0         zu\n",
       "1         zh\n",
       "2         zh\n",
       "3         zh\n",
       "4         zh\n",
       "        ... \n",
       "45458    NaN\n",
       "45459    NaN\n",
       "45460    NaN\n",
       "45461    NaN\n",
       "45462    NaN\n",
       "Name: original_language, Length: 45463, dtype: object"
      ]
     },
     "execution_count": 6,
     "metadata": {},
     "output_type": "execute_result"
    }
   ],
   "source": [
    "df[\"original_language\"]"
   ]
  },
  {
   "cell_type": "code",
   "execution_count": 7,
   "metadata": {},
   "outputs": [],
   "source": [
    "def map_language(lang): \n",
    "    map = {str(lang):True}\n",
    "    language = df[\"original_language\"].map(map)\n",
    "    map = {np.nan:False, True:True}\n",
    "    language = language.map(map)\n",
    "    return language"
   ]
  },
  {
   "cell_type": "code",
   "execution_count": 8,
   "metadata": {},
   "outputs": [
    {
     "data": {
      "text/plain": [
       "0    False\n",
       "1    False\n",
       "2    False\n",
       "3    False\n",
       "4    False\n",
       "Name: original_english, dtype: bool"
      ]
     },
     "execution_count": 8,
     "metadata": {},
     "output_type": "execute_result"
    }
   ],
   "source": [
    "df[\"original_english\"] = map_language(\"en\")\n",
    "df[\"original_english\"][0:5]"
   ]
  },
  {
   "cell_type": "code",
   "execution_count": 9,
   "metadata": {},
   "outputs": [
    {
     "data": {
      "text/plain": [
       "13535    True\n",
       "13536    True\n",
       "13537    True\n",
       "13538    True\n",
       "13539    True\n",
       "Name: original_english, dtype: bool"
      ]
     },
     "execution_count": 9,
     "metadata": {},
     "output_type": "execute_result"
    }
   ],
   "source": [
    "df[\"original_english\"][13535:13540]"
   ]
  },
  {
   "cell_type": "code",
   "execution_count": 10,
   "metadata": {},
   "outputs": [
    {
     "data": {
      "text/plain": [
       "count     45463\n",
       "unique        2\n",
       "top        True\n",
       "freq      32269\n",
       "Name: original_english, dtype: object"
      ]
     },
     "execution_count": 10,
     "metadata": {},
     "output_type": "execute_result"
    }
   ],
   "source": [
    "df[\"original_english\"].describe()"
   ]
  },
  {
   "cell_type": "code",
   "execution_count": 11,
   "metadata": {},
   "outputs": [
    {
     "data": {
      "text/plain": [
       "0        False\n",
       "1         True\n",
       "2         True\n",
       "3         True\n",
       "4         True\n",
       "         ...  \n",
       "45458    False\n",
       "45459    False\n",
       "45460    False\n",
       "45461    False\n",
       "45462    False\n",
       "Name: original_chinese, Length: 45463, dtype: bool"
      ]
     },
     "execution_count": 11,
     "metadata": {},
     "output_type": "execute_result"
    }
   ],
   "source": [
    "df[\"original_chinese\"] = map_language(\"zh\")\n",
    "df[\"original_chinese\"]"
   ]
  },
  {
   "cell_type": "code",
   "execution_count": 12,
   "metadata": {},
   "outputs": [
    {
     "data": {
      "text/plain": [
       "count     45463\n",
       "unique        2\n",
       "top       False\n",
       "freq      45054\n",
       "Name: original_chinese, dtype: object"
      ]
     },
     "execution_count": 12,
     "metadata": {},
     "output_type": "execute_result"
    }
   ],
   "source": [
    "df[\"original_chinese\"].describe()"
   ]
  },
  {
   "cell_type": "markdown",
   "metadata": {},
   "source": [
    "Our language variables seem to be have made successfully, with False and True placed where appropriate. We can use describe() is used to get a basic idea of our languages; it seems like 32269 movies are English, and 45054 movies are not Chinese. For some reason describe() suggests the dtype is an object, but it seems like this is a consequence of how describe() works; there should be no worry about our columns not being booleans.$\\newline$\n",
    "Our final set of created columns are the genre columns: action_adventure, drama, thriller_horror, and comedy. We can use apply() with lambda x representing the value of each row, and Python's in operator to check for the presence of the genre."
   ]
  },
  {
   "cell_type": "code",
   "execution_count": 13,
   "metadata": {},
   "outputs": [
    {
     "data": {
      "text/plain": [
       "0                            [{'id': 18, 'name': 'Drama'}]\n",
       "1        [{'id': 18, 'name': 'Drama'}, {'id': 36, 'name...\n",
       "2        [{'id': 28, 'name': 'Action'}, {'id': 12, 'nam...\n",
       "3        [{'id': 12, 'name': 'Adventure'}, {'id': 18, '...\n",
       "4        [{'id': 10752, 'name': 'War'}, {'id': 28, 'nam...\n",
       "                               ...                        \n",
       "45458                  [{'id': 99, 'name': 'Documentary'}]\n",
       "45459                        [{'id': 18, 'name': 'Drama'}]\n",
       "45460    [{'id': 16, 'name': 'Animation'}, {'id': 99, '...\n",
       "45461                                                   []\n",
       "45462    [{'id': 28, 'name': 'Action'}, {'id': 10752, '...\n",
       "Name: genres, Length: 45463, dtype: object"
      ]
     },
     "execution_count": 13,
     "metadata": {},
     "output_type": "execute_result"
    }
   ],
   "source": [
    "df[\"genres\"]"
   ]
  },
  {
   "cell_type": "code",
   "execution_count": 14,
   "metadata": {},
   "outputs": [
    {
     "data": {
      "text/plain": [
       "0        False\n",
       "1        False\n",
       "2         True\n",
       "3         True\n",
       "4         True\n",
       "         ...  \n",
       "45458    False\n",
       "45459    False\n",
       "45460    False\n",
       "45461    False\n",
       "45462     True\n",
       "Name: action_adventure, Length: 45463, dtype: bool"
      ]
     },
     "execution_count": 14,
     "metadata": {},
     "output_type": "execute_result"
    }
   ],
   "source": [
    "df[\"action_adventure\"] = df[\"genres\"].apply(lambda x: \"Action\" in x or \"Adventure\" in x)\n",
    "df[\"action_adventure\"]"
   ]
  },
  {
   "cell_type": "code",
   "execution_count": 15,
   "metadata": {},
   "outputs": [
    {
     "data": {
      "text/plain": [
       "0         True\n",
       "1         True\n",
       "2        False\n",
       "3         True\n",
       "4         True\n",
       "         ...  \n",
       "45458    False\n",
       "45459     True\n",
       "45460    False\n",
       "45461    False\n",
       "45462     True\n",
       "Name: drama, Length: 45463, dtype: bool"
      ]
     },
     "execution_count": 15,
     "metadata": {},
     "output_type": "execute_result"
    }
   ],
   "source": [
    "df[\"drama\"] = df[\"genres\"].apply(lambda x: \"Drama\" in x)\n",
    "df[\"drama\"]"
   ]
  },
  {
   "cell_type": "code",
   "execution_count": 16,
   "metadata": {},
   "outputs": [
    {
     "data": {
      "text/plain": [
       "0        False\n",
       "1        False\n",
       "2        False\n",
       "3        False\n",
       "4         True\n",
       "         ...  \n",
       "45458    False\n",
       "45459    False\n",
       "45460    False\n",
       "45461    False\n",
       "45462    False\n",
       "Name: thriller_horror, Length: 45463, dtype: bool"
      ]
     },
     "execution_count": 16,
     "metadata": {},
     "output_type": "execute_result"
    }
   ],
   "source": [
    "df[\"thriller_horror\"] = df[\"genres\"].apply(lambda x: \"Thriller\" in x or \"Horror\" in x)\n",
    "df[\"thriller_horror\"]"
   ]
  },
  {
   "cell_type": "code",
   "execution_count": 17,
   "metadata": {},
   "outputs": [
    {
     "data": {
      "text/plain": [
       "100    False\n",
       "101    False\n",
       "102    False\n",
       "103    False\n",
       "104    False\n",
       "105    False\n",
       "106    False\n",
       "107    False\n",
       "108     True\n",
       "109    False\n",
       "Name: comedy, dtype: bool"
      ]
     },
     "execution_count": 17,
     "metadata": {},
     "output_type": "execute_result"
    }
   ],
   "source": [
    "df[\"comedy\"] = df[\"genres\"].apply(lambda x: \"Comedy\" in x)\n",
    "df[\"comedy\"][100:110]"
   ]
  },
  {
   "cell_type": "markdown",
   "metadata": {},
   "source": [
    "The genre columns seem to have been created successfully, which True and False values present in boolean columns. $\\newline$ \n",
    "Our last transformation will focus on release date. Let's create a release_year column from release_date. $\\newline$"
   ]
  },
  {
   "cell_type": "code",
   "execution_count": 18,
   "metadata": {},
   "outputs": [
    {
     "data": {
      "text/plain": [
       "0          9/3/2004\n",
       "1        12/15/2011\n",
       "2          1/9/2014\n",
       "3         7/10/2008\n",
       "4          1/7/2009\n",
       "            ...    \n",
       "45458    1895-04-01\n",
       "45459      1/1/2001\n",
       "45460     3/12/2016\n",
       "45461     1/27/2016\n",
       "45462    1897-01-01\n",
       "Name: release_date, Length: 45463, dtype: object"
      ]
     },
     "execution_count": 18,
     "metadata": {},
     "output_type": "execute_result"
    }
   ],
   "source": [
    "df[\"release_date\"]"
   ]
  },
  {
   "cell_type": "code",
   "execution_count": 19,
   "metadata": {},
   "outputs": [],
   "source": [
    "def get_year(date) :\n",
    "    if (\"-\" in str(date)) :\n",
    "        return str(date)[0:4]\n",
    "    else :\n",
    "        return str(date)[-4:]"
   ]
  },
  {
   "cell_type": "code",
   "execution_count": 20,
   "metadata": {},
   "outputs": [
    {
     "data": {
      "text/plain": [
       "count     45463\n",
       "unique      136\n",
       "top        2014\n",
       "freq       1974\n",
       "Name: release_year, dtype: object"
      ]
     },
     "execution_count": 20,
     "metadata": {},
     "output_type": "execute_result"
    }
   ],
   "source": [
    "df[\"release_year\"] = df[\"release_date\"].apply(get_year)\n",
    "df[\"release_year\"] = df[\"release_year\"].astype(\"int32\", errors = \"ignore\")\n",
    "df[\"release_year\"].describe()"
   ]
  },
  {
   "cell_type": "code",
   "execution_count": 21,
   "metadata": {},
   "outputs": [
    {
     "data": {
      "text/plain": [
       "0        2004\n",
       "1        2011\n",
       "2        2014\n",
       "3        2008\n",
       "4        2009\n",
       "         ... \n",
       "45458    1895\n",
       "45459    2001\n",
       "45460    2016\n",
       "45461    2016\n",
       "45462    1897\n",
       "Name: release_year, Length: 45463, dtype: object"
      ]
     },
     "execution_count": 21,
     "metadata": {},
     "output_type": "execute_result"
    }
   ],
   "source": [
    "df[\"release_year\"]"
   ]
  },
  {
   "cell_type": "markdown",
   "metadata": {},
   "source": [
    "We've now finished all our transformation columns. Let's use .info() again to remind us of what the overall dataset looks like. Remember, our goal is to eventually determine which of these columns are influential on the movie's revenue value via linear regression."
   ]
  },
  {
   "cell_type": "code",
   "execution_count": 22,
   "metadata": {
    "scrolled": false
   },
   "outputs": [
    {
     "name": "stdout",
     "output_type": "stream",
     "text": [
      "<class 'pandas.core.frame.DataFrame'>\n",
      "RangeIndex: 45463 entries, 0 to 45462\n",
      "Data columns (total 31 columns):\n",
      " #   Column                 Non-Null Count  Dtype  \n",
      "---  ------                 --------------  -----  \n",
      " 0   adult                  45463 non-null  bool   \n",
      " 1   belongs_to_collection  45463 non-null  bool   \n",
      " 2   budget                 45463 non-null  int64  \n",
      " 3   genres                 45463 non-null  object \n",
      " 4   homepage               7779 non-null   object \n",
      " 5   id                     45463 non-null  int64  \n",
      " 6   imdb_id                45446 non-null  object \n",
      " 7   original_language      45452 non-null  object \n",
      " 8   original_title         45463 non-null  object \n",
      " 9   overview               44509 non-null  object \n",
      " 10  popularity             45460 non-null  float64\n",
      " 11  poster_path            45077 non-null  object \n",
      " 12  production_companies   45460 non-null  object \n",
      " 13  production_countries   45460 non-null  object \n",
      " 14  release_date           45376 non-null  object \n",
      " 15  revenue                45460 non-null  float64\n",
      " 16  runtime                45203 non-null  float64\n",
      " 17  spoken_languages       45460 non-null  object \n",
      " 18  status                 45379 non-null  object \n",
      " 19  tagline                20412 non-null  object \n",
      " 20  title                  45460 non-null  object \n",
      " 21  video                  45460 non-null  object \n",
      " 22  vote_average           45460 non-null  float64\n",
      " 23  vote_count             45460 non-null  float64\n",
      " 24  original_english       45463 non-null  bool   \n",
      " 25  original_chinese       45463 non-null  bool   \n",
      " 26  action_adventure       45463 non-null  bool   \n",
      " 27  drama                  45463 non-null  bool   \n",
      " 28  thriller_horror        45463 non-null  bool   \n",
      " 29  comedy                 45463 non-null  bool   \n",
      " 30  release_year           45463 non-null  object \n",
      "dtypes: bool(8), float64(5), int64(2), object(16)\n",
      "memory usage: 8.3+ MB\n"
     ]
    }
   ],
   "source": [
    "df.info()"
   ]
  },
  {
   "cell_type": "markdown",
   "metadata": {},
   "source": [
    "Our dataset has a lot of variables, but some of them are not going to be useful in our analysis. For example, columns relating to review scores and voting are not useful since these values are only known after the movie is complete. The website column is entirely superfluous to predicting revenue. Things like the title and overview are very difficult to quantify, and would likely require intensive research into the movie industry, the use of language in titles, and potentially the psychology of word recognition. These are out of the scope of this project. $\\newline$\n",
    "Let's narrow our focus to variables that seem more likely to be influential, and only keep variables that apply to our analysis. We'll keep our created variables and drop the columns they were based on (belongs_to_collection has already been replaced). We will also keep revenue (Movie Revenue), adult (Whether or not the movie is an Adult film), runtime (length in minutes), budget (self explanatory), and release_year instead of release_date. release_year is kept largely for later subsetting, as using it in an analysis of revenue would ignore things like inflation and the overall growth of the industry."
   ]
  },
  {
   "cell_type": "code",
   "execution_count": 23,
   "metadata": {},
   "outputs": [
    {
     "data": {
      "text/html": [
       "<div>\n",
       "<style scoped>\n",
       "    .dataframe tbody tr th:only-of-type {\n",
       "        vertical-align: middle;\n",
       "    }\n",
       "\n",
       "    .dataframe tbody tr th {\n",
       "        vertical-align: top;\n",
       "    }\n",
       "\n",
       "    .dataframe thead th {\n",
       "        text-align: right;\n",
       "    }\n",
       "</style>\n",
       "<table border=\"1\" class=\"dataframe\">\n",
       "  <thead>\n",
       "    <tr style=\"text-align: right;\">\n",
       "      <th></th>\n",
       "      <th>adult</th>\n",
       "      <th>belongs_to_collection</th>\n",
       "      <th>budget</th>\n",
       "      <th>release_year</th>\n",
       "      <th>revenue</th>\n",
       "      <th>runtime</th>\n",
       "      <th>original_english</th>\n",
       "      <th>original_chinese</th>\n",
       "      <th>action_adventure</th>\n",
       "      <th>drama</th>\n",
       "      <th>thriller_horror</th>\n",
       "      <th>comedy</th>\n",
       "    </tr>\n",
       "  </thead>\n",
       "  <tbody>\n",
       "    <tr>\n",
       "      <th>0</th>\n",
       "      <td>False</td>\n",
       "      <td>False</td>\n",
       "      <td>0</td>\n",
       "      <td>2004</td>\n",
       "      <td>0.0</td>\n",
       "      <td>96.0</td>\n",
       "      <td>False</td>\n",
       "      <td>False</td>\n",
       "      <td>False</td>\n",
       "      <td>True</td>\n",
       "      <td>False</td>\n",
       "      <td>False</td>\n",
       "    </tr>\n",
       "    <tr>\n",
       "      <th>1</th>\n",
       "      <td>False</td>\n",
       "      <td>False</td>\n",
       "      <td>94000000</td>\n",
       "      <td>2011</td>\n",
       "      <td>95311434.0</td>\n",
       "      <td>145.0</td>\n",
       "      <td>False</td>\n",
       "      <td>True</td>\n",
       "      <td>False</td>\n",
       "      <td>True</td>\n",
       "      <td>False</td>\n",
       "      <td>False</td>\n",
       "    </tr>\n",
       "    <tr>\n",
       "      <th>2</th>\n",
       "      <td>False</td>\n",
       "      <td>True</td>\n",
       "      <td>82000000</td>\n",
       "      <td>2014</td>\n",
       "      <td>0.0</td>\n",
       "      <td>119.0</td>\n",
       "      <td>False</td>\n",
       "      <td>True</td>\n",
       "      <td>True</td>\n",
       "      <td>False</td>\n",
       "      <td>False</td>\n",
       "      <td>False</td>\n",
       "    </tr>\n",
       "    <tr>\n",
       "      <th>3</th>\n",
       "      <td>False</td>\n",
       "      <td>True</td>\n",
       "      <td>80341000</td>\n",
       "      <td>2008</td>\n",
       "      <td>127814609.0</td>\n",
       "      <td>150.0</td>\n",
       "      <td>False</td>\n",
       "      <td>True</td>\n",
       "      <td>True</td>\n",
       "      <td>True</td>\n",
       "      <td>False</td>\n",
       "      <td>False</td>\n",
       "    </tr>\n",
       "    <tr>\n",
       "      <th>4</th>\n",
       "      <td>False</td>\n",
       "      <td>True</td>\n",
       "      <td>80000000</td>\n",
       "      <td>2009</td>\n",
       "      <td>121059225.0</td>\n",
       "      <td>136.0</td>\n",
       "      <td>False</td>\n",
       "      <td>True</td>\n",
       "      <td>True</td>\n",
       "      <td>True</td>\n",
       "      <td>True</td>\n",
       "      <td>False</td>\n",
       "    </tr>\n",
       "    <tr>\n",
       "      <th>...</th>\n",
       "      <td>...</td>\n",
       "      <td>...</td>\n",
       "      <td>...</td>\n",
       "      <td>...</td>\n",
       "      <td>...</td>\n",
       "      <td>...</td>\n",
       "      <td>...</td>\n",
       "      <td>...</td>\n",
       "      <td>...</td>\n",
       "      <td>...</td>\n",
       "      <td>...</td>\n",
       "      <td>...</td>\n",
       "    </tr>\n",
       "    <tr>\n",
       "      <th>45458</th>\n",
       "      <td>False</td>\n",
       "      <td>False</td>\n",
       "      <td>0</td>\n",
       "      <td>1895</td>\n",
       "      <td>0.0</td>\n",
       "      <td>1.0</td>\n",
       "      <td>False</td>\n",
       "      <td>False</td>\n",
       "      <td>False</td>\n",
       "      <td>False</td>\n",
       "      <td>False</td>\n",
       "      <td>False</td>\n",
       "    </tr>\n",
       "    <tr>\n",
       "      <th>45459</th>\n",
       "      <td>False</td>\n",
       "      <td>False</td>\n",
       "      <td>0</td>\n",
       "      <td>2001</td>\n",
       "      <td>0.0</td>\n",
       "      <td>0.0</td>\n",
       "      <td>False</td>\n",
       "      <td>False</td>\n",
       "      <td>False</td>\n",
       "      <td>True</td>\n",
       "      <td>False</td>\n",
       "      <td>False</td>\n",
       "    </tr>\n",
       "    <tr>\n",
       "      <th>45460</th>\n",
       "      <td>False</td>\n",
       "      <td>False</td>\n",
       "      <td>0</td>\n",
       "      <td>2016</td>\n",
       "      <td>0.0</td>\n",
       "      <td>76.0</td>\n",
       "      <td>False</td>\n",
       "      <td>False</td>\n",
       "      <td>False</td>\n",
       "      <td>False</td>\n",
       "      <td>False</td>\n",
       "      <td>False</td>\n",
       "    </tr>\n",
       "    <tr>\n",
       "      <th>45461</th>\n",
       "      <td>False</td>\n",
       "      <td>False</td>\n",
       "      <td>0</td>\n",
       "      <td>2016</td>\n",
       "      <td>0.0</td>\n",
       "      <td>84.0</td>\n",
       "      <td>False</td>\n",
       "      <td>False</td>\n",
       "      <td>False</td>\n",
       "      <td>False</td>\n",
       "      <td>False</td>\n",
       "      <td>False</td>\n",
       "    </tr>\n",
       "    <tr>\n",
       "      <th>45462</th>\n",
       "      <td>False</td>\n",
       "      <td>False</td>\n",
       "      <td>0</td>\n",
       "      <td>1897</td>\n",
       "      <td>0.0</td>\n",
       "      <td>1.0</td>\n",
       "      <td>False</td>\n",
       "      <td>False</td>\n",
       "      <td>True</td>\n",
       "      <td>True</td>\n",
       "      <td>False</td>\n",
       "      <td>False</td>\n",
       "    </tr>\n",
       "  </tbody>\n",
       "</table>\n",
       "<p>45463 rows × 12 columns</p>\n",
       "</div>"
      ],
      "text/plain": [
       "       adult  belongs_to_collection    budget release_year      revenue  \\\n",
       "0      False                  False         0         2004          0.0   \n",
       "1      False                  False  94000000         2011   95311434.0   \n",
       "2      False                   True  82000000         2014          0.0   \n",
       "3      False                   True  80341000         2008  127814609.0   \n",
       "4      False                   True  80000000         2009  121059225.0   \n",
       "...      ...                    ...       ...          ...          ...   \n",
       "45458  False                  False         0         1895          0.0   \n",
       "45459  False                  False         0         2001          0.0   \n",
       "45460  False                  False         0         2016          0.0   \n",
       "45461  False                  False         0         2016          0.0   \n",
       "45462  False                  False         0         1897          0.0   \n",
       "\n",
       "       runtime  original_english  original_chinese  action_adventure  drama  \\\n",
       "0         96.0             False             False             False   True   \n",
       "1        145.0             False              True             False   True   \n",
       "2        119.0             False              True              True  False   \n",
       "3        150.0             False              True              True   True   \n",
       "4        136.0             False              True              True   True   \n",
       "...        ...               ...               ...               ...    ...   \n",
       "45458      1.0             False             False             False  False   \n",
       "45459      0.0             False             False             False   True   \n",
       "45460     76.0             False             False             False  False   \n",
       "45461     84.0             False             False             False  False   \n",
       "45462      1.0             False             False              True   True   \n",
       "\n",
       "       thriller_horror  comedy  \n",
       "0                False   False  \n",
       "1                False   False  \n",
       "2                False   False  \n",
       "3                False   False  \n",
       "4                 True   False  \n",
       "...                ...     ...  \n",
       "45458            False   False  \n",
       "45459            False   False  \n",
       "45460            False   False  \n",
       "45461            False   False  \n",
       "45462            False   False  \n",
       "\n",
       "[45463 rows x 12 columns]"
      ]
     },
     "execution_count": 23,
     "metadata": {},
     "output_type": "execute_result"
    }
   ],
   "source": [
    "keep = [\"adult\", \"belongs_to_collection\", \"budget\", \"release_year\", \"revenue\", \"runtime\", \n",
    "        \"original_english\", \"original_chinese\", \"action_adventure\", \"drama\", \"thriller_horror\", \"comedy\"]\n",
    "sub = df.loc[:,keep]\n",
    "sub"
   ]
  },
  {
   "cell_type": "markdown",
   "metadata": {},
   "source": [
    "We've done our column subsetting and have 12 columns left to work with. A brief glance at the data we have shows some problems in row data that will also need to be subsetted out. $\\newline$\n",
    "We'll subset budget and revenue to movies where these both exceed 500,000, and runtime to values above 30. This is admittedly arbitrary, but such a subset seems necessary, especially with numerous rows containing 0 or other low numbers for these values (potentially short films, student films, or simply missing data). We'll also subset release_year to movies released during or after 2000 to help ensure results are relevant to the present, before dropping release_year since it won't be a part of our linear regression analysis.$\\newline$"
   ]
  },
  {
   "cell_type": "code",
   "execution_count": 24,
   "metadata": {},
   "outputs": [
    {
     "data": {
      "text/html": [
       "<div>\n",
       "<style scoped>\n",
       "    .dataframe tbody tr th:only-of-type {\n",
       "        vertical-align: middle;\n",
       "    }\n",
       "\n",
       "    .dataframe tbody tr th {\n",
       "        vertical-align: top;\n",
       "    }\n",
       "\n",
       "    .dataframe thead th {\n",
       "        text-align: right;\n",
       "    }\n",
       "</style>\n",
       "<table border=\"1\" class=\"dataframe\">\n",
       "  <thead>\n",
       "    <tr style=\"text-align: right;\">\n",
       "      <th></th>\n",
       "      <th>adult</th>\n",
       "      <th>belongs_to_collection</th>\n",
       "      <th>budget</th>\n",
       "      <th>release_year</th>\n",
       "      <th>revenue</th>\n",
       "      <th>runtime</th>\n",
       "      <th>original_english</th>\n",
       "      <th>original_chinese</th>\n",
       "      <th>action_adventure</th>\n",
       "      <th>drama</th>\n",
       "      <th>thriller_horror</th>\n",
       "      <th>comedy</th>\n",
       "    </tr>\n",
       "  </thead>\n",
       "  <tbody>\n",
       "    <tr>\n",
       "      <th>1</th>\n",
       "      <td>False</td>\n",
       "      <td>False</td>\n",
       "      <td>94000000</td>\n",
       "      <td>2011</td>\n",
       "      <td>95311434.0</td>\n",
       "      <td>145.0</td>\n",
       "      <td>False</td>\n",
       "      <td>True</td>\n",
       "      <td>False</td>\n",
       "      <td>True</td>\n",
       "      <td>False</td>\n",
       "      <td>False</td>\n",
       "    </tr>\n",
       "    <tr>\n",
       "      <th>3</th>\n",
       "      <td>False</td>\n",
       "      <td>True</td>\n",
       "      <td>80341000</td>\n",
       "      <td>2008</td>\n",
       "      <td>127814609.0</td>\n",
       "      <td>150.0</td>\n",
       "      <td>False</td>\n",
       "      <td>True</td>\n",
       "      <td>True</td>\n",
       "      <td>True</td>\n",
       "      <td>False</td>\n",
       "      <td>False</td>\n",
       "    </tr>\n",
       "    <tr>\n",
       "      <th>4</th>\n",
       "      <td>False</td>\n",
       "      <td>True</td>\n",
       "      <td>80000000</td>\n",
       "      <td>2009</td>\n",
       "      <td>121059225.0</td>\n",
       "      <td>136.0</td>\n",
       "      <td>False</td>\n",
       "      <td>True</td>\n",
       "      <td>True</td>\n",
       "      <td>True</td>\n",
       "      <td>True</td>\n",
       "      <td>False</td>\n",
       "    </tr>\n",
       "    <tr>\n",
       "      <th>5</th>\n",
       "      <td>False</td>\n",
       "      <td>False</td>\n",
       "      <td>65000000</td>\n",
       "      <td>2015</td>\n",
       "      <td>121545703.0</td>\n",
       "      <td>127.0</td>\n",
       "      <td>False</td>\n",
       "      <td>True</td>\n",
       "      <td>True</td>\n",
       "      <td>True</td>\n",
       "      <td>False</td>\n",
       "      <td>False</td>\n",
       "    </tr>\n",
       "    <tr>\n",
       "      <th>6</th>\n",
       "      <td>False</td>\n",
       "      <td>False</td>\n",
       "      <td>65000000</td>\n",
       "      <td>2017</td>\n",
       "      <td>254212245.0</td>\n",
       "      <td>130.0</td>\n",
       "      <td>False</td>\n",
       "      <td>True</td>\n",
       "      <td>True</td>\n",
       "      <td>False</td>\n",
       "      <td>False</td>\n",
       "      <td>True</td>\n",
       "    </tr>\n",
       "    <tr>\n",
       "      <th>...</th>\n",
       "      <td>...</td>\n",
       "      <td>...</td>\n",
       "      <td>...</td>\n",
       "      <td>...</td>\n",
       "      <td>...</td>\n",
       "      <td>...</td>\n",
       "      <td>...</td>\n",
       "      <td>...</td>\n",
       "      <td>...</td>\n",
       "      <td>...</td>\n",
       "      <td>...</td>\n",
       "      <td>...</td>\n",
       "    </tr>\n",
       "    <tr>\n",
       "      <th>45034</th>\n",
       "      <td>False</td>\n",
       "      <td>False</td>\n",
       "      <td>7500000</td>\n",
       "      <td>1995</td>\n",
       "      <td>32392047.0</td>\n",
       "      <td>91.0</td>\n",
       "      <td>False</td>\n",
       "      <td>False</td>\n",
       "      <td>True</td>\n",
       "      <td>False</td>\n",
       "      <td>True</td>\n",
       "      <td>True</td>\n",
       "    </tr>\n",
       "    <tr>\n",
       "      <th>45045</th>\n",
       "      <td>False</td>\n",
       "      <td>False</td>\n",
       "      <td>1549000</td>\n",
       "      <td>2005</td>\n",
       "      <td>7096000.0</td>\n",
       "      <td>107.0</td>\n",
       "      <td>False</td>\n",
       "      <td>False</td>\n",
       "      <td>True</td>\n",
       "      <td>True</td>\n",
       "      <td>True</td>\n",
       "      <td>False</td>\n",
       "    </tr>\n",
       "    <tr>\n",
       "      <th>45046</th>\n",
       "      <td>False</td>\n",
       "      <td>True</td>\n",
       "      <td>900000</td>\n",
       "      <td>1992</td>\n",
       "      <td>20483423.0</td>\n",
       "      <td>95.0</td>\n",
       "      <td>False</td>\n",
       "      <td>False</td>\n",
       "      <td>True</td>\n",
       "      <td>False</td>\n",
       "      <td>True</td>\n",
       "      <td>False</td>\n",
       "    </tr>\n",
       "    <tr>\n",
       "      <th>45329</th>\n",
       "      <td>False</td>\n",
       "      <td>False</td>\n",
       "      <td>6000000</td>\n",
       "      <td>2010</td>\n",
       "      <td>3770657.0</td>\n",
       "      <td>108.0</td>\n",
       "      <td>False</td>\n",
       "      <td>False</td>\n",
       "      <td>False</td>\n",
       "      <td>True</td>\n",
       "      <td>False</td>\n",
       "      <td>False</td>\n",
       "    </tr>\n",
       "    <tr>\n",
       "      <th>45440</th>\n",
       "      <td>False</td>\n",
       "      <td>False</td>\n",
       "      <td>3000000</td>\n",
       "      <td>2005</td>\n",
       "      <td>9879971.0</td>\n",
       "      <td>94.0</td>\n",
       "      <td>False</td>\n",
       "      <td>False</td>\n",
       "      <td>False</td>\n",
       "      <td>True</td>\n",
       "      <td>False</td>\n",
       "      <td>False</td>\n",
       "    </tr>\n",
       "  </tbody>\n",
       "</table>\n",
       "<p>4840 rows × 12 columns</p>\n",
       "</div>"
      ],
      "text/plain": [
       "       adult  belongs_to_collection    budget release_year      revenue  \\\n",
       "1      False                  False  94000000         2011   95311434.0   \n",
       "3      False                   True  80341000         2008  127814609.0   \n",
       "4      False                   True  80000000         2009  121059225.0   \n",
       "5      False                  False  65000000         2015  121545703.0   \n",
       "6      False                  False  65000000         2017  254212245.0   \n",
       "...      ...                    ...       ...          ...          ...   \n",
       "45034  False                  False   7500000         1995   32392047.0   \n",
       "45045  False                  False   1549000         2005    7096000.0   \n",
       "45046  False                   True    900000         1992   20483423.0   \n",
       "45329  False                  False   6000000         2010    3770657.0   \n",
       "45440  False                  False   3000000         2005    9879971.0   \n",
       "\n",
       "       runtime  original_english  original_chinese  action_adventure  drama  \\\n",
       "1        145.0             False              True             False   True   \n",
       "3        150.0             False              True              True   True   \n",
       "4        136.0             False              True              True   True   \n",
       "5        127.0             False              True              True   True   \n",
       "6        130.0             False              True              True  False   \n",
       "...        ...               ...               ...               ...    ...   \n",
       "45034     91.0             False             False              True  False   \n",
       "45045    107.0             False             False              True   True   \n",
       "45046     95.0             False             False              True  False   \n",
       "45329    108.0             False             False             False   True   \n",
       "45440     94.0             False             False             False   True   \n",
       "\n",
       "       thriller_horror  comedy  \n",
       "1                False   False  \n",
       "3                False   False  \n",
       "4                 True   False  \n",
       "5                False   False  \n",
       "6                False    True  \n",
       "...                ...     ...  \n",
       "45034             True    True  \n",
       "45045             True   False  \n",
       "45046             True   False  \n",
       "45329            False   False  \n",
       "45440            False   False  \n",
       "\n",
       "[4840 rows x 12 columns]"
      ]
     },
     "execution_count": 24,
     "metadata": {},
     "output_type": "execute_result"
    }
   ],
   "source": [
    "sub = sub[sub[\"budget\"] >= 500000]\n",
    "sub = sub[sub[\"revenue\"] >= 500000]\n",
    "sub = sub[sub[\"runtime\"] >= 30]\n",
    "sub"
   ]
  },
  {
   "cell_type": "code",
   "execution_count": 25,
   "metadata": {},
   "outputs": [
    {
     "data": {
      "text/html": [
       "<div>\n",
       "<style scoped>\n",
       "    .dataframe tbody tr th:only-of-type {\n",
       "        vertical-align: middle;\n",
       "    }\n",
       "\n",
       "    .dataframe tbody tr th {\n",
       "        vertical-align: top;\n",
       "    }\n",
       "\n",
       "    .dataframe thead th {\n",
       "        text-align: right;\n",
       "    }\n",
       "</style>\n",
       "<table border=\"1\" class=\"dataframe\">\n",
       "  <thead>\n",
       "    <tr style=\"text-align: right;\">\n",
       "      <th></th>\n",
       "      <th>adult</th>\n",
       "      <th>belongs_to_collection</th>\n",
       "      <th>budget</th>\n",
       "      <th>revenue</th>\n",
       "      <th>runtime</th>\n",
       "      <th>original_english</th>\n",
       "      <th>original_chinese</th>\n",
       "      <th>action_adventure</th>\n",
       "      <th>drama</th>\n",
       "      <th>thriller_horror</th>\n",
       "      <th>comedy</th>\n",
       "    </tr>\n",
       "  </thead>\n",
       "  <tbody>\n",
       "    <tr>\n",
       "      <th>1</th>\n",
       "      <td>False</td>\n",
       "      <td>False</td>\n",
       "      <td>94000000</td>\n",
       "      <td>95311434.0</td>\n",
       "      <td>145.0</td>\n",
       "      <td>False</td>\n",
       "      <td>True</td>\n",
       "      <td>False</td>\n",
       "      <td>True</td>\n",
       "      <td>False</td>\n",
       "      <td>False</td>\n",
       "    </tr>\n",
       "    <tr>\n",
       "      <th>5</th>\n",
       "      <td>False</td>\n",
       "      <td>False</td>\n",
       "      <td>65000000</td>\n",
       "      <td>121545703.0</td>\n",
       "      <td>127.0</td>\n",
       "      <td>False</td>\n",
       "      <td>True</td>\n",
       "      <td>True</td>\n",
       "      <td>True</td>\n",
       "      <td>False</td>\n",
       "      <td>False</td>\n",
       "    </tr>\n",
       "    <tr>\n",
       "      <th>6</th>\n",
       "      <td>False</td>\n",
       "      <td>False</td>\n",
       "      <td>65000000</td>\n",
       "      <td>254212245.0</td>\n",
       "      <td>130.0</td>\n",
       "      <td>False</td>\n",
       "      <td>True</td>\n",
       "      <td>True</td>\n",
       "      <td>False</td>\n",
       "      <td>False</td>\n",
       "      <td>True</td>\n",
       "    </tr>\n",
       "    <tr>\n",
       "      <th>7</th>\n",
       "      <td>False</td>\n",
       "      <td>False</td>\n",
       "      <td>50000000</td>\n",
       "      <td>102205175.0</td>\n",
       "      <td>124.0</td>\n",
       "      <td>False</td>\n",
       "      <td>True</td>\n",
       "      <td>True</td>\n",
       "      <td>False</td>\n",
       "      <td>False</td>\n",
       "      <td>True</td>\n",
       "    </tr>\n",
       "    <tr>\n",
       "      <th>13</th>\n",
       "      <td>False</td>\n",
       "      <td>False</td>\n",
       "      <td>40000000</td>\n",
       "      <td>385284817.0</td>\n",
       "      <td>111.0</td>\n",
       "      <td>False</td>\n",
       "      <td>True</td>\n",
       "      <td>True</td>\n",
       "      <td>False</td>\n",
       "      <td>False</td>\n",
       "      <td>True</td>\n",
       "    </tr>\n",
       "    <tr>\n",
       "      <th>...</th>\n",
       "      <td>...</td>\n",
       "      <td>...</td>\n",
       "      <td>...</td>\n",
       "      <td>...</td>\n",
       "      <td>...</td>\n",
       "      <td>...</td>\n",
       "      <td>...</td>\n",
       "      <td>...</td>\n",
       "      <td>...</td>\n",
       "      <td>...</td>\n",
       "      <td>...</td>\n",
       "    </tr>\n",
       "    <tr>\n",
       "      <th>44676</th>\n",
       "      <td>False</td>\n",
       "      <td>False</td>\n",
       "      <td>3800000</td>\n",
       "      <td>16800000.0</td>\n",
       "      <td>115.0</td>\n",
       "      <td>False</td>\n",
       "      <td>False</td>\n",
       "      <td>False</td>\n",
       "      <td>True</td>\n",
       "      <td>False</td>\n",
       "      <td>False</td>\n",
       "    </tr>\n",
       "    <tr>\n",
       "      <th>45017</th>\n",
       "      <td>False</td>\n",
       "      <td>True</td>\n",
       "      <td>36000000</td>\n",
       "      <td>156844753.0</td>\n",
       "      <td>105.0</td>\n",
       "      <td>False</td>\n",
       "      <td>False</td>\n",
       "      <td>True</td>\n",
       "      <td>True</td>\n",
       "      <td>False</td>\n",
       "      <td>False</td>\n",
       "    </tr>\n",
       "    <tr>\n",
       "      <th>45019</th>\n",
       "      <td>False</td>\n",
       "      <td>False</td>\n",
       "      <td>29000000</td>\n",
       "      <td>33662874.0</td>\n",
       "      <td>131.0</td>\n",
       "      <td>False</td>\n",
       "      <td>False</td>\n",
       "      <td>True</td>\n",
       "      <td>True</td>\n",
       "      <td>False</td>\n",
       "      <td>False</td>\n",
       "    </tr>\n",
       "    <tr>\n",
       "      <th>45027</th>\n",
       "      <td>False</td>\n",
       "      <td>True</td>\n",
       "      <td>12902809</td>\n",
       "      <td>36000000.0</td>\n",
       "      <td>109.0</td>\n",
       "      <td>False</td>\n",
       "      <td>False</td>\n",
       "      <td>True</td>\n",
       "      <td>True</td>\n",
       "      <td>False</td>\n",
       "      <td>False</td>\n",
       "    </tr>\n",
       "    <tr>\n",
       "      <th>45329</th>\n",
       "      <td>False</td>\n",
       "      <td>False</td>\n",
       "      <td>6000000</td>\n",
       "      <td>3770657.0</td>\n",
       "      <td>108.0</td>\n",
       "      <td>False</td>\n",
       "      <td>False</td>\n",
       "      <td>False</td>\n",
       "      <td>True</td>\n",
       "      <td>False</td>\n",
       "      <td>False</td>\n",
       "    </tr>\n",
       "  </tbody>\n",
       "</table>\n",
       "<p>1450 rows × 11 columns</p>\n",
       "</div>"
      ],
      "text/plain": [
       "       adult  belongs_to_collection    budget      revenue  runtime  \\\n",
       "1      False                  False  94000000   95311434.0    145.0   \n",
       "5      False                  False  65000000  121545703.0    127.0   \n",
       "6      False                  False  65000000  254212245.0    130.0   \n",
       "7      False                  False  50000000  102205175.0    124.0   \n",
       "13     False                  False  40000000  385284817.0    111.0   \n",
       "...      ...                    ...       ...          ...      ...   \n",
       "44676  False                  False   3800000   16800000.0    115.0   \n",
       "45017  False                   True  36000000  156844753.0    105.0   \n",
       "45019  False                  False  29000000   33662874.0    131.0   \n",
       "45027  False                   True  12902809   36000000.0    109.0   \n",
       "45329  False                  False   6000000    3770657.0    108.0   \n",
       "\n",
       "       original_english  original_chinese  action_adventure  drama  \\\n",
       "1                 False              True             False   True   \n",
       "5                 False              True              True   True   \n",
       "6                 False              True              True  False   \n",
       "7                 False              True              True  False   \n",
       "13                False              True              True  False   \n",
       "...                 ...               ...               ...    ...   \n",
       "44676             False             False             False   True   \n",
       "45017             False             False              True   True   \n",
       "45019             False             False              True   True   \n",
       "45027             False             False              True   True   \n",
       "45329             False             False             False   True   \n",
       "\n",
       "       thriller_horror  comedy  \n",
       "1                False   False  \n",
       "5                False   False  \n",
       "6                False    True  \n",
       "7                False    True  \n",
       "13               False    True  \n",
       "...                ...     ...  \n",
       "44676            False   False  \n",
       "45017            False   False  \n",
       "45019            False   False  \n",
       "45027            False   False  \n",
       "45329            False   False  \n",
       "\n",
       "[1450 rows x 11 columns]"
      ]
     },
     "execution_count": 25,
     "metadata": {},
     "output_type": "execute_result"
    }
   ],
   "source": [
    "sub.loc[:,\"release_year\"] = sub[\"release_year\"].astype(\"int32\")\n",
    "sub = sub[sub[\"release_year\"] >= 2010]\n",
    "sub = sub.drop(\"release_year\", axis=1)\n",
    "sub"
   ]
  },
  {
   "cell_type": "markdown",
   "metadata": {},
   "source": [
    "After all of our data cleaning and transforming and subsetting, we're left with 1450 rows of 11 columns to work with (revenue and 10 predictor variables). We'll need to convert our boolean True/False columns to numeric 1/0 columns for the linear modeling. We'll run a simple linear regression with revenue as the response variable against all the other variables, and make further decisions from there. We'll use a statistical package called Pingouin for our regression."
   ]
  },
  {
   "cell_type": "code",
   "execution_count": 26,
   "metadata": {},
   "outputs": [],
   "source": [
    "#If needed, remove hashtag below to install Pingouin\n",
    "#! pip install pingouin"
   ]
  },
  {
   "cell_type": "code",
   "execution_count": 27,
   "metadata": {},
   "outputs": [
    {
     "name": "stderr",
     "output_type": "stream",
     "text": [
      "C:\\Users\\Christopher Wang\\anaconda3\\lib\\site-packages\\outdated\\utils.py:14: OutdatedPackageWarning: The package outdated is out of date. Your version is 0.2.0, the latest is 0.2.1.\n",
      "Set the environment variable OUTDATED_IGNORE=1 to disable these warnings.\n",
      "  return warn(\n"
     ]
    }
   ],
   "source": [
    "import pingouin as pg"
   ]
  },
  {
   "cell_type": "code",
   "execution_count": 28,
   "metadata": {},
   "outputs": [
    {
     "name": "stderr",
     "output_type": "stream",
     "text": [
      "C:\\Users\\Christopher Wang\\anaconda3\\lib\\site-packages\\outdated\\utils.py:14: OutdatedPackageWarning: The package pingouin is out of date. Your version is 0.3.10, the latest is 0.3.11.\n",
      "Set the environment variable OUTDATED_IGNORE=1 to disable these warnings.\n",
      "  return warn(\n"
     ]
    },
    {
     "data": {
      "text/html": [
       "<div>\n",
       "<style scoped>\n",
       "    .dataframe tbody tr th:only-of-type {\n",
       "        vertical-align: middle;\n",
       "    }\n",
       "\n",
       "    .dataframe tbody tr th {\n",
       "        vertical-align: top;\n",
       "    }\n",
       "\n",
       "    .dataframe thead th {\n",
       "        text-align: right;\n",
       "    }\n",
       "</style>\n",
       "<table border=\"1\" class=\"dataframe\">\n",
       "  <thead>\n",
       "    <tr style=\"text-align: right;\">\n",
       "      <th></th>\n",
       "      <th>adult</th>\n",
       "      <th>belongs_to_collection</th>\n",
       "      <th>budget</th>\n",
       "      <th>revenue</th>\n",
       "      <th>runtime</th>\n",
       "      <th>original_english</th>\n",
       "      <th>original_chinese</th>\n",
       "      <th>action_adventure</th>\n",
       "      <th>drama</th>\n",
       "      <th>thriller_horror</th>\n",
       "      <th>comedy</th>\n",
       "    </tr>\n",
       "  </thead>\n",
       "  <tbody>\n",
       "    <tr>\n",
       "      <th>1</th>\n",
       "      <td>0</td>\n",
       "      <td>0</td>\n",
       "      <td>94000000</td>\n",
       "      <td>95311434</td>\n",
       "      <td>145</td>\n",
       "      <td>0</td>\n",
       "      <td>1</td>\n",
       "      <td>0</td>\n",
       "      <td>1</td>\n",
       "      <td>0</td>\n",
       "      <td>0</td>\n",
       "    </tr>\n",
       "    <tr>\n",
       "      <th>5</th>\n",
       "      <td>0</td>\n",
       "      <td>0</td>\n",
       "      <td>65000000</td>\n",
       "      <td>121545703</td>\n",
       "      <td>127</td>\n",
       "      <td>0</td>\n",
       "      <td>1</td>\n",
       "      <td>1</td>\n",
       "      <td>1</td>\n",
       "      <td>0</td>\n",
       "      <td>0</td>\n",
       "    </tr>\n",
       "    <tr>\n",
       "      <th>6</th>\n",
       "      <td>0</td>\n",
       "      <td>0</td>\n",
       "      <td>65000000</td>\n",
       "      <td>254212245</td>\n",
       "      <td>130</td>\n",
       "      <td>0</td>\n",
       "      <td>1</td>\n",
       "      <td>1</td>\n",
       "      <td>0</td>\n",
       "      <td>0</td>\n",
       "      <td>1</td>\n",
       "    </tr>\n",
       "    <tr>\n",
       "      <th>7</th>\n",
       "      <td>0</td>\n",
       "      <td>0</td>\n",
       "      <td>50000000</td>\n",
       "      <td>102205175</td>\n",
       "      <td>124</td>\n",
       "      <td>0</td>\n",
       "      <td>1</td>\n",
       "      <td>1</td>\n",
       "      <td>0</td>\n",
       "      <td>0</td>\n",
       "      <td>1</td>\n",
       "    </tr>\n",
       "    <tr>\n",
       "      <th>13</th>\n",
       "      <td>0</td>\n",
       "      <td>0</td>\n",
       "      <td>40000000</td>\n",
       "      <td>385284817</td>\n",
       "      <td>111</td>\n",
       "      <td>0</td>\n",
       "      <td>1</td>\n",
       "      <td>1</td>\n",
       "      <td>0</td>\n",
       "      <td>0</td>\n",
       "      <td>1</td>\n",
       "    </tr>\n",
       "    <tr>\n",
       "      <th>...</th>\n",
       "      <td>...</td>\n",
       "      <td>...</td>\n",
       "      <td>...</td>\n",
       "      <td>...</td>\n",
       "      <td>...</td>\n",
       "      <td>...</td>\n",
       "      <td>...</td>\n",
       "      <td>...</td>\n",
       "      <td>...</td>\n",
       "      <td>...</td>\n",
       "      <td>...</td>\n",
       "    </tr>\n",
       "    <tr>\n",
       "      <th>44676</th>\n",
       "      <td>0</td>\n",
       "      <td>0</td>\n",
       "      <td>3800000</td>\n",
       "      <td>16800000</td>\n",
       "      <td>115</td>\n",
       "      <td>0</td>\n",
       "      <td>0</td>\n",
       "      <td>0</td>\n",
       "      <td>1</td>\n",
       "      <td>0</td>\n",
       "      <td>0</td>\n",
       "    </tr>\n",
       "    <tr>\n",
       "      <th>45017</th>\n",
       "      <td>0</td>\n",
       "      <td>1</td>\n",
       "      <td>36000000</td>\n",
       "      <td>156844753</td>\n",
       "      <td>105</td>\n",
       "      <td>0</td>\n",
       "      <td>0</td>\n",
       "      <td>1</td>\n",
       "      <td>1</td>\n",
       "      <td>0</td>\n",
       "      <td>0</td>\n",
       "    </tr>\n",
       "    <tr>\n",
       "      <th>45019</th>\n",
       "      <td>0</td>\n",
       "      <td>0</td>\n",
       "      <td>29000000</td>\n",
       "      <td>33662874</td>\n",
       "      <td>131</td>\n",
       "      <td>0</td>\n",
       "      <td>0</td>\n",
       "      <td>1</td>\n",
       "      <td>1</td>\n",
       "      <td>0</td>\n",
       "      <td>0</td>\n",
       "    </tr>\n",
       "    <tr>\n",
       "      <th>45027</th>\n",
       "      <td>0</td>\n",
       "      <td>1</td>\n",
       "      <td>12902809</td>\n",
       "      <td>36000000</td>\n",
       "      <td>109</td>\n",
       "      <td>0</td>\n",
       "      <td>0</td>\n",
       "      <td>1</td>\n",
       "      <td>1</td>\n",
       "      <td>0</td>\n",
       "      <td>0</td>\n",
       "    </tr>\n",
       "    <tr>\n",
       "      <th>45329</th>\n",
       "      <td>0</td>\n",
       "      <td>0</td>\n",
       "      <td>6000000</td>\n",
       "      <td>3770657</td>\n",
       "      <td>108</td>\n",
       "      <td>0</td>\n",
       "      <td>0</td>\n",
       "      <td>0</td>\n",
       "      <td>1</td>\n",
       "      <td>0</td>\n",
       "      <td>0</td>\n",
       "    </tr>\n",
       "  </tbody>\n",
       "</table>\n",
       "<p>1450 rows × 11 columns</p>\n",
       "</div>"
      ],
      "text/plain": [
       "       adult  belongs_to_collection    budget    revenue  runtime  \\\n",
       "1          0                      0  94000000   95311434      145   \n",
       "5          0                      0  65000000  121545703      127   \n",
       "6          0                      0  65000000  254212245      130   \n",
       "7          0                      0  50000000  102205175      124   \n",
       "13         0                      0  40000000  385284817      111   \n",
       "...      ...                    ...       ...        ...      ...   \n",
       "44676      0                      0   3800000   16800000      115   \n",
       "45017      0                      1  36000000  156844753      105   \n",
       "45019      0                      0  29000000   33662874      131   \n",
       "45027      0                      1  12902809   36000000      109   \n",
       "45329      0                      0   6000000    3770657      108   \n",
       "\n",
       "       original_english  original_chinese  action_adventure  drama  \\\n",
       "1                     0                 1                 0      1   \n",
       "5                     0                 1                 1      1   \n",
       "6                     0                 1                 1      0   \n",
       "7                     0                 1                 1      0   \n",
       "13                    0                 1                 1      0   \n",
       "...                 ...               ...               ...    ...   \n",
       "44676                 0                 0                 0      1   \n",
       "45017                 0                 0                 1      1   \n",
       "45019                 0                 0                 1      1   \n",
       "45027                 0                 0                 1      1   \n",
       "45329                 0                 0                 0      1   \n",
       "\n",
       "       thriller_horror  comedy  \n",
       "1                    0       0  \n",
       "5                    0       0  \n",
       "6                    0       1  \n",
       "7                    0       1  \n",
       "13                   0       1  \n",
       "...                ...     ...  \n",
       "44676                0       0  \n",
       "45017                0       0  \n",
       "45019                0       0  \n",
       "45027                0       0  \n",
       "45329                0       0  \n",
       "\n",
       "[1450 rows x 11 columns]"
      ]
     },
     "execution_count": 28,
     "metadata": {},
     "output_type": "execute_result"
    }
   ],
   "source": [
    "sub = sub.astype(int)\n",
    "sub"
   ]
  },
  {
   "cell_type": "code",
   "execution_count": 29,
   "metadata": {},
   "outputs": [
    {
     "data": {
      "text/html": [
       "<div>\n",
       "<style scoped>\n",
       "    .dataframe tbody tr th:only-of-type {\n",
       "        vertical-align: middle;\n",
       "    }\n",
       "\n",
       "    .dataframe tbody tr th {\n",
       "        vertical-align: top;\n",
       "    }\n",
       "\n",
       "    .dataframe thead th {\n",
       "        text-align: right;\n",
       "    }\n",
       "</style>\n",
       "<table border=\"1\" class=\"dataframe\">\n",
       "  <thead>\n",
       "    <tr style=\"text-align: right;\">\n",
       "      <th></th>\n",
       "      <th>names</th>\n",
       "      <th>coef</th>\n",
       "      <th>se</th>\n",
       "      <th>T</th>\n",
       "      <th>pval</th>\n",
       "      <th>r2</th>\n",
       "      <th>adj_r2</th>\n",
       "      <th>CI[2.5%]</th>\n",
       "      <th>CI[97.5%]</th>\n",
       "    </tr>\n",
       "  </thead>\n",
       "  <tbody>\n",
       "    <tr>\n",
       "      <th>0</th>\n",
       "      <td>Intercept</td>\n",
       "      <td>-7.481625e+07</td>\n",
       "      <td>350.886515</td>\n",
       "      <td>-2.132206e+05</td>\n",
       "      <td>0.000000e+00</td>\n",
       "      <td>0.656813</td>\n",
       "      <td>0.654668</td>\n",
       "      <td>-7.481694e+07</td>\n",
       "      <td>-7.481556e+07</td>\n",
       "    </tr>\n",
       "    <tr>\n",
       "      <th>1</th>\n",
       "      <td>belongs_to_collection</td>\n",
       "      <td>1.096642e+08</td>\n",
       "      <td>32.040104</td>\n",
       "      <td>3.422718e+06</td>\n",
       "      <td>0.000000e+00</td>\n",
       "      <td>0.656813</td>\n",
       "      <td>0.654668</td>\n",
       "      <td>1.096642e+08</td>\n",
       "      <td>1.096643e+08</td>\n",
       "    </tr>\n",
       "    <tr>\n",
       "      <th>2</th>\n",
       "      <td>budget</td>\n",
       "      <td>3.028417e+00</td>\n",
       "      <td>0.066540</td>\n",
       "      <td>4.551276e+01</td>\n",
       "      <td>5.143664e-281</td>\n",
       "      <td>0.656813</td>\n",
       "      <td>0.654668</td>\n",
       "      <td>2.897891e+00</td>\n",
       "      <td>3.158943e+00</td>\n",
       "    </tr>\n",
       "    <tr>\n",
       "      <th>3</th>\n",
       "      <td>runtime</td>\n",
       "      <td>5.324637e+05</td>\n",
       "      <td>40100.734666</td>\n",
       "      <td>1.327815e+01</td>\n",
       "      <td>4.838867e-38</td>\n",
       "      <td>0.656813</td>\n",
       "      <td>0.654668</td>\n",
       "      <td>4.538016e+05</td>\n",
       "      <td>6.111258e+05</td>\n",
       "    </tr>\n",
       "    <tr>\n",
       "      <th>4</th>\n",
       "      <td>original_english</td>\n",
       "      <td>6.228998e+06</td>\n",
       "      <td>256.197211</td>\n",
       "      <td>2.431329e+04</td>\n",
       "      <td>0.000000e+00</td>\n",
       "      <td>0.656813</td>\n",
       "      <td>0.654668</td>\n",
       "      <td>6.228496e+06</td>\n",
       "      <td>6.229501e+06</td>\n",
       "    </tr>\n",
       "    <tr>\n",
       "      <th>5</th>\n",
       "      <td>original_chinese</td>\n",
       "      <td>6.029274e+07</td>\n",
       "      <td>4.689337</td>\n",
       "      <td>1.285741e+07</td>\n",
       "      <td>0.000000e+00</td>\n",
       "      <td>0.656813</td>\n",
       "      <td>0.654668</td>\n",
       "      <td>6.029273e+07</td>\n",
       "      <td>6.029275e+07</td>\n",
       "    </tr>\n",
       "    <tr>\n",
       "      <th>6</th>\n",
       "      <td>action_adventure</td>\n",
       "      <td>-1.787632e+07</td>\n",
       "      <td>70.636992</td>\n",
       "      <td>-2.530731e+05</td>\n",
       "      <td>0.000000e+00</td>\n",
       "      <td>0.656813</td>\n",
       "      <td>0.654668</td>\n",
       "      <td>-1.787646e+07</td>\n",
       "      <td>-1.787618e+07</td>\n",
       "    </tr>\n",
       "    <tr>\n",
       "      <th>7</th>\n",
       "      <td>drama</td>\n",
       "      <td>-3.848926e+06</td>\n",
       "      <td>218.760189</td>\n",
       "      <td>-1.759427e+04</td>\n",
       "      <td>0.000000e+00</td>\n",
       "      <td>0.656813</td>\n",
       "      <td>0.654668</td>\n",
       "      <td>-3.849355e+06</td>\n",
       "      <td>-3.848497e+06</td>\n",
       "    </tr>\n",
       "    <tr>\n",
       "      <th>8</th>\n",
       "      <td>thriller_horror</td>\n",
       "      <td>-6.086223e+06</td>\n",
       "      <td>120.393194</td>\n",
       "      <td>-5.055288e+04</td>\n",
       "      <td>0.000000e+00</td>\n",
       "      <td>0.656813</td>\n",
       "      <td>0.654668</td>\n",
       "      <td>-6.086459e+06</td>\n",
       "      <td>-6.085987e+06</td>\n",
       "    </tr>\n",
       "    <tr>\n",
       "      <th>9</th>\n",
       "      <td>comedy</td>\n",
       "      <td>-7.825040e+05</td>\n",
       "      <td>117.349275</td>\n",
       "      <td>-6.668162e+03</td>\n",
       "      <td>0.000000e+00</td>\n",
       "      <td>0.656813</td>\n",
       "      <td>0.654668</td>\n",
       "      <td>-7.827342e+05</td>\n",
       "      <td>-7.822738e+05</td>\n",
       "    </tr>\n",
       "  </tbody>\n",
       "</table>\n",
       "</div>"
      ],
      "text/plain": [
       "                   names          coef            se             T  \\\n",
       "0              Intercept -7.481625e+07    350.886515 -2.132206e+05   \n",
       "1  belongs_to_collection  1.096642e+08     32.040104  3.422718e+06   \n",
       "2                 budget  3.028417e+00      0.066540  4.551276e+01   \n",
       "3                runtime  5.324637e+05  40100.734666  1.327815e+01   \n",
       "4       original_english  6.228998e+06    256.197211  2.431329e+04   \n",
       "5       original_chinese  6.029274e+07      4.689337  1.285741e+07   \n",
       "6       action_adventure -1.787632e+07     70.636992 -2.530731e+05   \n",
       "7                  drama -3.848926e+06    218.760189 -1.759427e+04   \n",
       "8        thriller_horror -6.086223e+06    120.393194 -5.055288e+04   \n",
       "9                 comedy -7.825040e+05    117.349275 -6.668162e+03   \n",
       "\n",
       "            pval        r2    adj_r2      CI[2.5%]     CI[97.5%]  \n",
       "0   0.000000e+00  0.656813  0.654668 -7.481694e+07 -7.481556e+07  \n",
       "1   0.000000e+00  0.656813  0.654668  1.096642e+08  1.096643e+08  \n",
       "2  5.143664e-281  0.656813  0.654668  2.897891e+00  3.158943e+00  \n",
       "3   4.838867e-38  0.656813  0.654668  4.538016e+05  6.111258e+05  \n",
       "4   0.000000e+00  0.656813  0.654668  6.228496e+06  6.229501e+06  \n",
       "5   0.000000e+00  0.656813  0.654668  6.029273e+07  6.029275e+07  \n",
       "6   0.000000e+00  0.656813  0.654668 -1.787646e+07 -1.787618e+07  \n",
       "7   0.000000e+00  0.656813  0.654668 -3.849355e+06 -3.848497e+06  \n",
       "8   0.000000e+00  0.656813  0.654668 -6.086459e+06 -6.085987e+06  \n",
       "9   0.000000e+00  0.656813  0.654668 -7.827342e+05 -7.822738e+05  "
      ]
     },
     "execution_count": 29,
     "metadata": {},
     "output_type": "execute_result"
    }
   ],
   "source": [
    "revenue = sub[\"revenue\"]\n",
    "variables = sub.drop(\"revenue\", axis=1)\n",
    "lm = pg.linear_regression(variables, revenue)\n",
    "lm"
   ]
  },
  {
   "cell_type": "markdown",
   "metadata": {},
   "source": [
    "With the linear model complete, we're just about finished with coding and technical work for this project, all that's left is the (subjective) analysis and interpretation of the model.$\\newline$\n",
    "First, some general notes of the model as a whole. Our r2 (or $R^2$) and adj_r2 (or adjusted $R^2$) are .6568 and .6547, respectively. These are measures of how well the model is able to predict the values of the response variable, here revenue, in comparison to the actual observed values of revenue; so this model can predict about 65% of the variance of the revenue variable. (Adjusted $R^2$ is a modification to $R^2$ that is meant to penalize a model for using too many variables and overfitting to the sample instead of appropriately attempting to fit to a larger population. It being about the same as $R^2$ here is a good sign.) $\\newline$\n",
    "Next, a brief explanation to the important aspects of each row of output. The coef (coefficient) of a variable is a measure of how much that variable impacts revenue. A coefficient of 1 would mean for each unit the variable increases (or for the booleans, if the variable is True or 1), revenue also increases by 1. The e number means $10^{number}$. The pval (p value) of the variable is a measure of its significance, and is the result of an implicit hypothesis test that tests whether or not the \"true population\" coefficient of the variable is nonzero. Lower p-values, below $\\alpha = .01$, are generally thought of as a good indication the variable's true coefficient is nonzero, and as such that variable is significant. The CI columns are a result of a 95% confidence interval attempting to estimate the true population coefficient value. $\\newline$\n",
    "With that, we can look at the values of each row and see what they can tell us. It is somewhat surprising to see that every single variable included has a very small p-value associated with it, with many of them being practically zero, indicating every single population coefficient for the variables is nonzero, and as such every single variable has a statistically significant impact on revenue. This can be double checked by observing no confidence interval includes zero. This means that any conclusions to be made on what factors are most influential on revenue will be subjective and will have to involve meta-thinking of the data. $\\newline$\n",
    "The only variable that doesn't appear is adult, which either means a film's status as an adult film doesn't impact its average revenue, or there were basically zero films that actually were adult left in our subset. $\\newline$\n",
    "Moving on to the genres, all the genres have negative coefficients associated with them, which indicates that movies fitting none of these genres are more likely to have higher revenues. The magnitudes of the coefficients also differ quite a bit, with comedy \"decreasing\" revenue the least, followed by drama and thriller_horror, and action_adventure \"decreasing\" revenue the most. $\\newline$\n",
    "The two language variables both have positive coefficients, with original_chinese having a e+07 vs original_english's e+06. Movies released in these two languages are more likely to have higher revenues. Looking internationally, it may be that movies produced for the Chinese and American/Western markets are more likely to have higher revenue than movies made in/for other markets. $\\newline$\n",
    "Runtime and budget both have positive coefficients as well. This could be for a number of reasons. Movies, particularly big blockbusters, are becoming longer and more expensive to produce, especially with the growing proliferation of superhero movies with expensive effects and star studded casts. In addition, films with higher runtimes and budgets are also likely to get more attention from the studio and have more marketing attached to them, which could contribute to higher revenues. $\\newline$\n",
    "Finally, belongs_to_collection has a positive coefficient, and quite a high one at that. This indicates movies that are part of a largely series are likely to have higher revenues. This seems reasonable, as a sequel can attract fans of the original film and new fans that haven't seen the previous movies. But it should also be taken with a grain of salt; while it is true the sequels in the dataset have higher average revenues, these sequels may have only been produced because of the original movie's successful revenue take in the first place. $\\newline$ $\\newline$\n",
    "\n",
    "Of the usable variables within this movie dataset, including a movie's status as a part of a series, its budget and runtime, and its language and genre, practically all of them have a statistically significant impact on the movie's revenue. According to the model generated, highly-budgeted and long movies released in Chinese or English and without fitting into any of the included genres (or only fits into the comedy genre) will have higher average revenues than the \"average\" film.$\\newline$ $\\newline$\n",
    "\n",
    "$\\textbf{Variable Exploration Begins here}\\newline$\n",
    "Before doing any work with the data, it's a good idea to closely examine and analyze the raw dataset. This ensures the dataset is properly understood for analysis, and helps give a good idea of the broader picture. It's also an opportunity to modify any initial plans if needed to better suit the dataset. This portion will focus mostly on analyzing each variable in the dataset individually, seeing if they're usable and appropriate to the project."
   ]
  },
  {
   "cell_type": "code",
   "execution_count": 30,
   "metadata": {
    "scrolled": false
   },
   "outputs": [
    {
     "data": {
      "text/html": [
       "<div>\n",
       "<style scoped>\n",
       "    .dataframe tbody tr th:only-of-type {\n",
       "        vertical-align: middle;\n",
       "    }\n",
       "\n",
       "    .dataframe tbody tr th {\n",
       "        vertical-align: top;\n",
       "    }\n",
       "\n",
       "    .dataframe thead th {\n",
       "        text-align: right;\n",
       "    }\n",
       "</style>\n",
       "<table border=\"1\" class=\"dataframe\">\n",
       "  <thead>\n",
       "    <tr style=\"text-align: right;\">\n",
       "      <th></th>\n",
       "      <th>adult</th>\n",
       "      <th>belongs_to_collection</th>\n",
       "      <th>budget</th>\n",
       "      <th>genres</th>\n",
       "      <th>homepage</th>\n",
       "      <th>id</th>\n",
       "      <th>imdb_id</th>\n",
       "      <th>original_language</th>\n",
       "      <th>original_title</th>\n",
       "      <th>overview</th>\n",
       "      <th>popularity</th>\n",
       "      <th>poster_path</th>\n",
       "      <th>production_companies</th>\n",
       "      <th>production_countries</th>\n",
       "      <th>release_date</th>\n",
       "      <th>revenue</th>\n",
       "      <th>runtime</th>\n",
       "      <th>spoken_languages</th>\n",
       "      <th>status</th>\n",
       "      <th>tagline</th>\n",
       "      <th>title</th>\n",
       "      <th>video</th>\n",
       "      <th>vote_average</th>\n",
       "      <th>vote_count</th>\n",
       "    </tr>\n",
       "  </thead>\n",
       "  <tbody>\n",
       "    <tr>\n",
       "      <th>0</th>\n",
       "      <td>False</td>\n",
       "      <td>NaN</td>\n",
       "      <td>0</td>\n",
       "      <td>[{'id': 18, 'name': 'Drama'}]</td>\n",
       "      <td>NaN</td>\n",
       "      <td>6934</td>\n",
       "      <td>tt0419279</td>\n",
       "      <td>zu</td>\n",
       "      <td>Yesterday</td>\n",
       "      <td>After falling ill, Yesterday learns that she i...</td>\n",
       "      <td>1.678469</td>\n",
       "      <td>/wtAnXllDSP6N6zaJoG83o8t2q8c.jpg</td>\n",
       "      <td>[{'name': 'Distant Horizons', 'id': 1066}, {'n...</td>\n",
       "      <td>[{'iso_3166_1': 'ZA', 'name': 'South Africa'}]</td>\n",
       "      <td>9/3/2004</td>\n",
       "      <td>0.0</td>\n",
       "      <td>96.0</td>\n",
       "      <td>[{'iso_639_1': 'zu', 'name': 'isiZulu'}]</td>\n",
       "      <td>Released</td>\n",
       "      <td>NaN</td>\n",
       "      <td>Yesterday</td>\n",
       "      <td>False</td>\n",
       "      <td>8.3</td>\n",
       "      <td>6.0</td>\n",
       "    </tr>\n",
       "    <tr>\n",
       "      <th>1</th>\n",
       "      <td>False</td>\n",
       "      <td>NaN</td>\n",
       "      <td>94000000</td>\n",
       "      <td>[{'id': 18, 'name': 'Drama'}, {'id': 36, 'name...</td>\n",
       "      <td>http://www.theflowersofwarmovie.com/</td>\n",
       "      <td>76758</td>\n",
       "      <td>tt1410063</td>\n",
       "      <td>zh</td>\n",
       "      <td>金陵十三釵</td>\n",
       "      <td>A Westerner finds refuge with a group of women...</td>\n",
       "      <td>6.587711</td>\n",
       "      <td>/s9Lgt28YhHIVllsF3N1FxwNuGre.jpg</td>\n",
       "      <td>[{'name': 'Beijing New Picture Film Co. Ltd.',...</td>\n",
       "      <td>[{'iso_3166_1': 'CN', 'name': 'China'}, {'iso_...</td>\n",
       "      <td>12/15/2011</td>\n",
       "      <td>95311434.0</td>\n",
       "      <td>145.0</td>\n",
       "      <td>[{'iso_639_1': 'zh', 'name': '普通话'}, {'iso_639...</td>\n",
       "      <td>Released</td>\n",
       "      <td>NaN</td>\n",
       "      <td>The Flowers of War</td>\n",
       "      <td>False</td>\n",
       "      <td>7.1</td>\n",
       "      <td>193.0</td>\n",
       "    </tr>\n",
       "    <tr>\n",
       "      <th>2</th>\n",
       "      <td>False</td>\n",
       "      <td>{'id': 392206, 'name': 'The Monkey King Collec...</td>\n",
       "      <td>82000000</td>\n",
       "      <td>[{'id': 28, 'name': 'Action'}, {'id': 12, 'nam...</td>\n",
       "      <td>http://themonkeyking.com/</td>\n",
       "      <td>119892</td>\n",
       "      <td>tt1717715</td>\n",
       "      <td>zh</td>\n",
       "      <td>西遊記之大鬧天宮</td>\n",
       "      <td>Sun Wukong, (The Monkey King) is a monkey born...</td>\n",
       "      <td>6.793767</td>\n",
       "      <td>/nHMuPTRH2PLgeaedfJ1f9OROAv8.jpg</td>\n",
       "      <td>[{'name': 'Mandarin Film', 'id': 7839}, {'name...</td>\n",
       "      <td>[{'iso_3166_1': 'CN', 'name': 'China'}]</td>\n",
       "      <td>1/9/2014</td>\n",
       "      <td>0.0</td>\n",
       "      <td>119.0</td>\n",
       "      <td>[{'iso_639_1': 'zh', 'name': '普通话'}, {'iso_639...</td>\n",
       "      <td>Released</td>\n",
       "      <td>Havoc in Heaven</td>\n",
       "      <td>The Monkey King</td>\n",
       "      <td>False</td>\n",
       "      <td>4.8</td>\n",
       "      <td>52.0</td>\n",
       "    </tr>\n",
       "    <tr>\n",
       "      <th>3</th>\n",
       "      <td>False</td>\n",
       "      <td>{'id': 96677, 'name': 'Red Cliff Collection', ...</td>\n",
       "      <td>80341000</td>\n",
       "      <td>[{'id': 12, 'name': 'Adventure'}, {'id': 18, '...</td>\n",
       "      <td>http://www.redclifffilm.com</td>\n",
       "      <td>12289</td>\n",
       "      <td>tt0425637</td>\n",
       "      <td>zh</td>\n",
       "      <td>Chi bi</td>\n",
       "      <td>In the early third century, the land of Wu is ...</td>\n",
       "      <td>11.867516</td>\n",
       "      <td>/uMiA2c1wrySRTI3f2ij5i2aCCya.jpg</td>\n",
       "      <td>[{'name': 'Metropolitan Filmexport', 'id': 656...</td>\n",
       "      <td>[{'iso_3166_1': 'CN', 'name': 'China'}]</td>\n",
       "      <td>7/10/2008</td>\n",
       "      <td>127814609.0</td>\n",
       "      <td>150.0</td>\n",
       "      <td>[{'iso_639_1': 'zh', 'name': '普通话'}, {'iso_639...</td>\n",
       "      <td>Released</td>\n",
       "      <td>The future will be decided.</td>\n",
       "      <td>Red Cliff</td>\n",
       "      <td>False</td>\n",
       "      <td>7.1</td>\n",
       "      <td>207.0</td>\n",
       "    </tr>\n",
       "    <tr>\n",
       "      <th>4</th>\n",
       "      <td>False</td>\n",
       "      <td>{'id': 96677, 'name': 'Red Cliff Collection', ...</td>\n",
       "      <td>80000000</td>\n",
       "      <td>[{'id': 10752, 'name': 'War'}, {'id': 28, 'nam...</td>\n",
       "      <td>http://www.redclifffilm.com</td>\n",
       "      <td>15384</td>\n",
       "      <td>tt1326972</td>\n",
       "      <td>zh</td>\n",
       "      <td>赤壁 2</td>\n",
       "      <td>In 208 A.D., in the final days of the Han Dyna...</td>\n",
       "      <td>7.309903</td>\n",
       "      <td>/s6fUmPUR5YY8HqkCnlthHsVLoDC.jpg</td>\n",
       "      <td>[{'name': 'Metropolitan Filmexport', 'id': 656...</td>\n",
       "      <td>[{'iso_3166_1': 'CN', 'name': 'China'}]</td>\n",
       "      <td>1/7/2009</td>\n",
       "      <td>121059225.0</td>\n",
       "      <td>136.0</td>\n",
       "      <td>[{'iso_639_1': 'zh', 'name': '普通话'}, {'iso_639...</td>\n",
       "      <td>Released</td>\n",
       "      <td>Destiny Lies In The Wind</td>\n",
       "      <td>Red Cliff Part II</td>\n",
       "      <td>False</td>\n",
       "      <td>7.1</td>\n",
       "      <td>110.0</td>\n",
       "    </tr>\n",
       "  </tbody>\n",
       "</table>\n",
       "</div>"
      ],
      "text/plain": [
       "   adult                              belongs_to_collection    budget  \\\n",
       "0  False                                                NaN         0   \n",
       "1  False                                                NaN  94000000   \n",
       "2  False  {'id': 392206, 'name': 'The Monkey King Collec...  82000000   \n",
       "3  False  {'id': 96677, 'name': 'Red Cliff Collection', ...  80341000   \n",
       "4  False  {'id': 96677, 'name': 'Red Cliff Collection', ...  80000000   \n",
       "\n",
       "                                              genres  \\\n",
       "0                      [{'id': 18, 'name': 'Drama'}]   \n",
       "1  [{'id': 18, 'name': 'Drama'}, {'id': 36, 'name...   \n",
       "2  [{'id': 28, 'name': 'Action'}, {'id': 12, 'nam...   \n",
       "3  [{'id': 12, 'name': 'Adventure'}, {'id': 18, '...   \n",
       "4  [{'id': 10752, 'name': 'War'}, {'id': 28, 'nam...   \n",
       "\n",
       "                               homepage      id    imdb_id original_language  \\\n",
       "0                                   NaN    6934  tt0419279                zu   \n",
       "1  http://www.theflowersofwarmovie.com/   76758  tt1410063                zh   \n",
       "2             http://themonkeyking.com/  119892  tt1717715                zh   \n",
       "3           http://www.redclifffilm.com   12289  tt0425637                zh   \n",
       "4           http://www.redclifffilm.com   15384  tt1326972                zh   \n",
       "\n",
       "  original_title                                           overview  \\\n",
       "0      Yesterday  After falling ill, Yesterday learns that she i...   \n",
       "1          金陵十三釵  A Westerner finds refuge with a group of women...   \n",
       "2       西遊記之大鬧天宮  Sun Wukong, (The Monkey King) is a monkey born...   \n",
       "3         Chi bi  In the early third century, the land of Wu is ...   \n",
       "4           赤壁 2  In 208 A.D., in the final days of the Han Dyna...   \n",
       "\n",
       "   popularity                       poster_path  \\\n",
       "0    1.678469  /wtAnXllDSP6N6zaJoG83o8t2q8c.jpg   \n",
       "1    6.587711  /s9Lgt28YhHIVllsF3N1FxwNuGre.jpg   \n",
       "2    6.793767  /nHMuPTRH2PLgeaedfJ1f9OROAv8.jpg   \n",
       "3   11.867516  /uMiA2c1wrySRTI3f2ij5i2aCCya.jpg   \n",
       "4    7.309903  /s6fUmPUR5YY8HqkCnlthHsVLoDC.jpg   \n",
       "\n",
       "                                production_companies  \\\n",
       "0  [{'name': 'Distant Horizons', 'id': 1066}, {'n...   \n",
       "1  [{'name': 'Beijing New Picture Film Co. Ltd.',...   \n",
       "2  [{'name': 'Mandarin Film', 'id': 7839}, {'name...   \n",
       "3  [{'name': 'Metropolitan Filmexport', 'id': 656...   \n",
       "4  [{'name': 'Metropolitan Filmexport', 'id': 656...   \n",
       "\n",
       "                                production_countries release_date  \\\n",
       "0     [{'iso_3166_1': 'ZA', 'name': 'South Africa'}]     9/3/2004   \n",
       "1  [{'iso_3166_1': 'CN', 'name': 'China'}, {'iso_...   12/15/2011   \n",
       "2            [{'iso_3166_1': 'CN', 'name': 'China'}]     1/9/2014   \n",
       "3            [{'iso_3166_1': 'CN', 'name': 'China'}]    7/10/2008   \n",
       "4            [{'iso_3166_1': 'CN', 'name': 'China'}]     1/7/2009   \n",
       "\n",
       "       revenue  runtime                                   spoken_languages  \\\n",
       "0          0.0     96.0           [{'iso_639_1': 'zu', 'name': 'isiZulu'}]   \n",
       "1   95311434.0    145.0  [{'iso_639_1': 'zh', 'name': '普通话'}, {'iso_639...   \n",
       "2          0.0    119.0  [{'iso_639_1': 'zh', 'name': '普通话'}, {'iso_639...   \n",
       "3  127814609.0    150.0  [{'iso_639_1': 'zh', 'name': '普通话'}, {'iso_639...   \n",
       "4  121059225.0    136.0  [{'iso_639_1': 'zh', 'name': '普通话'}, {'iso_639...   \n",
       "\n",
       "     status                      tagline               title  video  \\\n",
       "0  Released                          NaN           Yesterday  False   \n",
       "1  Released                          NaN  The Flowers of War  False   \n",
       "2  Released              Havoc in Heaven     The Monkey King  False   \n",
       "3  Released  The future will be decided.           Red Cliff  False   \n",
       "4  Released     Destiny Lies In The Wind   Red Cliff Part II  False   \n",
       "\n",
       "   vote_average  vote_count  \n",
       "0           8.3         6.0  \n",
       "1           7.1       193.0  \n",
       "2           4.8        52.0  \n",
       "3           7.1       207.0  \n",
       "4           7.1       110.0  "
      ]
     },
     "execution_count": 30,
     "metadata": {},
     "output_type": "execute_result"
    }
   ],
   "source": [
    "explore = pd.read_csv(\"movies_metadata.csv\")\n",
    "pd.set_option('display.max_columns', None)\n",
    "explore.head()"
   ]
  },
  {
   "cell_type": "code",
   "execution_count": 31,
   "metadata": {},
   "outputs": [
    {
     "name": "stdout",
     "output_type": "stream",
     "text": [
      "<class 'pandas.core.frame.DataFrame'>\n",
      "RangeIndex: 45463 entries, 0 to 45462\n",
      "Data columns (total 24 columns):\n",
      " #   Column                 Non-Null Count  Dtype  \n",
      "---  ------                 --------------  -----  \n",
      " 0   adult                  45463 non-null  bool   \n",
      " 1   belongs_to_collection  4491 non-null   object \n",
      " 2   budget                 45463 non-null  int64  \n",
      " 3   genres                 45463 non-null  object \n",
      " 4   homepage               7779 non-null   object \n",
      " 5   id                     45463 non-null  int64  \n",
      " 6   imdb_id                45446 non-null  object \n",
      " 7   original_language      45452 non-null  object \n",
      " 8   original_title         45463 non-null  object \n",
      " 9   overview               44509 non-null  object \n",
      " 10  popularity             45460 non-null  float64\n",
      " 11  poster_path            45077 non-null  object \n",
      " 12  production_companies   45460 non-null  object \n",
      " 13  production_countries   45460 non-null  object \n",
      " 14  release_date           45376 non-null  object \n",
      " 15  revenue                45460 non-null  float64\n",
      " 16  runtime                45203 non-null  float64\n",
      " 17  spoken_languages       45460 non-null  object \n",
      " 18  status                 45379 non-null  object \n",
      " 19  tagline                20412 non-null  object \n",
      " 20  title                  45460 non-null  object \n",
      " 21  video                  45460 non-null  object \n",
      " 22  vote_average           45460 non-null  float64\n",
      " 23  vote_count             45460 non-null  float64\n",
      "dtypes: bool(1), float64(5), int64(2), object(16)\n",
      "memory usage: 8.0+ MB\n"
     ]
    }
   ],
   "source": [
    "explore.info()"
   ]
  },
  {
   "cell_type": "markdown",
   "metadata": {},
   "source": [
    "There are 45,462 movies here, and 24 columns:\n",
    "- adult: Boolean that describes if the movie is an adult film\n",
    "- belongs_to_collection: Contains a string that contains an id and name of franchise if that movie is a part of a franchise. NaN means the movie is not related to others, at least directly/officially\n",
    "- budget: Contains the budget of the movie\n",
    "- genres: Uses the same string format as Belongs_to_Collection, contains information regarding the movie's genre\n",
    "- homepage: Website of the film\n",
    "- id: Presumably an internal id, or the id from TMDB, where the data in the dataset comes from\n",
    "- imdb_id: The movie's id on IMDB, a different popular online movie database\n",
    "- original_language: a two letter abbreviation of the original language of the film. \n",
    "- original_title: Title of the film in original language\n",
    "- overview: A brief summary of the film\n",
    "- popularity: Unknown to me, presumably a TMDB parameter\n",
    "- poster_path: Not 100% sure, but appears to be the end of a URL to link to the movie's poster\n",
    "- production_companies: List of production companies for the movie\n",
    "- production_countries: List of countries movie was produced in\n",
    "- release_date: Date movie was released\n",
    "- revenue: Amount of revenue movie generated\n",
    "- runtime: Length of movie in minutes\n",
    "- spoken_languages: List of (presumably) all languages spoken in film\n",
    "- status: Whether the movie has been released or not\n",
    "- tagline: A movie's tagline, if it has one\n",
    "- title: Title of film in English\n",
    "- video: I don't know what this refers too\n",
    "- vote_average: Average score movie has received, probably from the TMDB database\n",
    "- vote_count: Number of votes the movie has received $\\newline$\n",
    "Let's look at each column individually and decide if it's usable, and/or if it should be transformed in some way for usage in the project. We'll get a basic description and the first few entries of each column."
   ]
  },
  {
   "cell_type": "code",
   "execution_count": 32,
   "metadata": {},
   "outputs": [
    {
     "data": {
      "text/plain": [
       "count     45463\n",
       "unique        2\n",
       "top       False\n",
       "freq      45454\n",
       "Name: adult, dtype: object"
      ]
     },
     "execution_count": 32,
     "metadata": {},
     "output_type": "execute_result"
    }
   ],
   "source": [
    "explore[\"adult\"].describe()"
   ]
  },
  {
   "cell_type": "code",
   "execution_count": 33,
   "metadata": {},
   "outputs": [
    {
     "data": {
      "text/plain": [
       "0    False\n",
       "1    False\n",
       "2    False\n",
       "3    False\n",
       "4    False\n",
       "Name: adult, dtype: bool"
      ]
     },
     "execution_count": 33,
     "metadata": {},
     "output_type": "execute_result"
    }
   ],
   "source": [
    "explore[\"adult\"].head()"
   ]
  },
  {
   "cell_type": "markdown",
   "metadata": {},
   "source": [
    "Note: It saying object is a quirk of Pandas, as the previous display showed, adult is a Boolean, and is coded as such.\n",
    "Adult is a boolean column consisting mostly of False. It can be used easily incorporated into the regression model, so it is probably suitable for analysis, although the fact the overwhelming majority of films is not adult may mean the variable will not make much impact. It will be turned into a column of 1s for True and 0s for False, for easier usage with Python's math packages."
   ]
  },
  {
   "cell_type": "code",
   "execution_count": 34,
   "metadata": {},
   "outputs": [
    {
     "data": {
      "text/plain": [
       "count                                                  4491\n",
       "unique                                                 1695\n",
       "top       {'id': 415931, 'name': 'The Bowery Boys', 'pos...\n",
       "freq                                                     29\n",
       "Name: belongs_to_collection, dtype: object"
      ]
     },
     "execution_count": 34,
     "metadata": {},
     "output_type": "execute_result"
    }
   ],
   "source": [
    "explore[\"belongs_to_collection\"].describe()"
   ]
  },
  {
   "cell_type": "code",
   "execution_count": 35,
   "metadata": {},
   "outputs": [
    {
     "data": {
      "text/plain": [
       "0                                                  NaN\n",
       "1                                                  NaN\n",
       "2    {'id': 392206, 'name': 'The Monkey King Collec...\n",
       "3    {'id': 96677, 'name': 'Red Cliff Collection', ...\n",
       "4    {'id': 96677, 'name': 'Red Cliff Collection', ...\n",
       "Name: belongs_to_collection, dtype: object"
      ]
     },
     "execution_count": 35,
     "metadata": {},
     "output_type": "execute_result"
    }
   ],
   "source": [
    "explore[\"belongs_to_collection\"].head()"
   ]
  },
  {
   "cell_type": "markdown",
   "metadata": {},
   "source": [
    "There are 4491 movies in franchises in this dataset, with 1695 unique franchises. To parse the column for franchises and create indicator variables for each would be time consuming, and likely not actually very helpful or practical to the project. Instead, this will be turned into a simple \"Is part of a franchise or not\" Boolean column, which like before will need to becomes 1s and 0s for regression. "
   ]
  },
  {
   "cell_type": "code",
   "execution_count": 36,
   "metadata": {},
   "outputs": [
    {
     "data": {
      "text/plain": [
       "count    4.546300e+04\n",
       "mean     4.224579e+06\n",
       "std      1.742413e+07\n",
       "min      0.000000e+00\n",
       "25%      0.000000e+00\n",
       "50%      0.000000e+00\n",
       "75%      0.000000e+00\n",
       "max      3.800000e+08\n",
       "Name: budget, dtype: float64"
      ]
     },
     "execution_count": 36,
     "metadata": {},
     "output_type": "execute_result"
    }
   ],
   "source": [
    "explore[\"budget\"].describe()"
   ]
  },
  {
   "cell_type": "code",
   "execution_count": 37,
   "metadata": {},
   "outputs": [
    {
     "data": {
      "text/plain": [
       "0           0\n",
       "1    94000000\n",
       "2    82000000\n",
       "3    80341000\n",
       "4    80000000\n",
       "Name: budget, dtype: int64"
      ]
     },
     "execution_count": 37,
     "metadata": {},
     "output_type": "execute_result"
    }
   ],
   "source": [
    "explore[\"budget\"].head()"
   ]
  },
  {
   "cell_type": "markdown",
   "metadata": {},
   "source": [
    "Budget's data type as a float can stay the same, and there will not need to be any transforming of the column to something else for regression. However, the fact the 75th percentile of budget is still 0 is somewhat alarming, and probably means that most of the movies in the dataset have either missing data, or really did have no budget for some reason. These types of movies are not a focus of this project, so some subsetting based on this column will be necessary."
   ]
  },
  {
   "cell_type": "code",
   "execution_count": 38,
   "metadata": {},
   "outputs": [
    {
     "data": {
      "text/plain": [
       "count                             45463\n",
       "unique                             4066\n",
       "top       [{'id': 18, 'name': 'Drama'}]\n",
       "freq                               5000\n",
       "Name: genres, dtype: object"
      ]
     },
     "execution_count": 38,
     "metadata": {},
     "output_type": "execute_result"
    }
   ],
   "source": [
    "explore[\"genres\"].describe()"
   ]
  },
  {
   "cell_type": "code",
   "execution_count": 39,
   "metadata": {},
   "outputs": [
    {
     "data": {
      "text/plain": [
       "0                        [{'id': 18, 'name': 'Drama'}]\n",
       "1    [{'id': 18, 'name': 'Drama'}, {'id': 36, 'name...\n",
       "2    [{'id': 28, 'name': 'Action'}, {'id': 12, 'nam...\n",
       "3    [{'id': 12, 'name': 'Adventure'}, {'id': 18, '...\n",
       "4    [{'id': 10752, 'name': 'War'}, {'id': 28, 'nam...\n",
       "Name: genres, dtype: object"
      ]
     },
     "execution_count": 39,
     "metadata": {},
     "output_type": "execute_result"
    }
   ],
   "source": [
    "explore[\"genres\"].head()"
   ]
  },
  {
   "cell_type": "markdown",
   "metadata": {},
   "source": [
    "There are 4066 \"unique\" genres, but it should be noted that this does not mean there are 4066 genres, since movies that fit multiple genres are described with a list. Instead, there are 4066 combinations of genres in the dataset. The most common \"genre-set\" is the single-genre Drama movie. Not every single genre will be used, since there are far too many with lots of overlap between them. Instead, a few broader indicator variables will be used for each movie, potentially action_adventure or drama_war."
   ]
  },
  {
   "cell_type": "code",
   "execution_count": 40,
   "metadata": {},
   "outputs": [
    {
     "data": {
      "text/plain": [
       "count                            7779\n",
       "unique                           7670\n",
       "top       http://www.georgecarlin.com\n",
       "freq                               12\n",
       "Name: homepage, dtype: object"
      ]
     },
     "execution_count": 40,
     "metadata": {},
     "output_type": "execute_result"
    }
   ],
   "source": [
    "explore[\"homepage\"].describe()"
   ]
  },
  {
   "cell_type": "code",
   "execution_count": 41,
   "metadata": {},
   "outputs": [
    {
     "data": {
      "text/plain": [
       "0                                     NaN\n",
       "1    http://www.theflowersofwarmovie.com/\n",
       "2               http://themonkeyking.com/\n",
       "3             http://www.redclifffilm.com\n",
       "4             http://www.redclifffilm.com\n",
       "Name: homepage, dtype: object"
      ]
     },
     "execution_count": 41,
     "metadata": {},
     "output_type": "execute_result"
    }
   ],
   "source": [
    "explore[\"homepage\"].head()"
   ]
  },
  {
   "cell_type": "markdown",
   "metadata": {},
   "source": [
    "There are 7670 different websites in the dataset, with George Carlin's showing up 12 times, probably his comedy specials. There doesn't seem to be much point in including a movie's website title in analyzing movie revenue, so this column probably won't be used."
   ]
  },
  {
   "cell_type": "code",
   "execution_count": 42,
   "metadata": {},
   "outputs": [
    {
     "data": {
      "text/plain": [
       "count     45463.000000\n",
       "mean     108359.918813\n",
       "std      112460.749278\n",
       "min           2.000000\n",
       "25%       26449.500000\n",
       "50%       60003.000000\n",
       "75%      157328.000000\n",
       "max      469172.000000\n",
       "Name: id, dtype: float64"
      ]
     },
     "execution_count": 42,
     "metadata": {},
     "output_type": "execute_result"
    }
   ],
   "source": [
    "explore[\"id\"].describe()"
   ]
  },
  {
   "cell_type": "code",
   "execution_count": 43,
   "metadata": {},
   "outputs": [
    {
     "data": {
      "text/plain": [
       "0      6934\n",
       "1     76758\n",
       "2    119892\n",
       "3     12289\n",
       "4     15384\n",
       "Name: id, dtype: int64"
      ]
     },
     "execution_count": 43,
     "metadata": {},
     "output_type": "execute_result"
    }
   ],
   "source": [
    "explore[\"id\"].head()"
   ]
  },
  {
   "cell_type": "markdown",
   "metadata": {},
   "source": [
    "This is probably the ID the movie has on TMDB. There doesn't seem to be any point to including this and seeing if it influences movie revenue."
   ]
  },
  {
   "cell_type": "code",
   "execution_count": 44,
   "metadata": {},
   "outputs": [
    {
     "data": {
      "text/plain": [
       "count         45446\n",
       "unique        45416\n",
       "top       tt1180333\n",
       "freq              3\n",
       "Name: imdb_id, dtype: object"
      ]
     },
     "execution_count": 44,
     "metadata": {},
     "output_type": "execute_result"
    }
   ],
   "source": [
    "explore[\"imdb_id\"].describe()"
   ]
  },
  {
   "cell_type": "code",
   "execution_count": 45,
   "metadata": {},
   "outputs": [
    {
     "data": {
      "text/plain": [
       "0    tt0419279\n",
       "1    tt1410063\n",
       "2    tt1717715\n",
       "3    tt0425637\n",
       "4    tt1326972\n",
       "Name: imdb_id, dtype: object"
      ]
     },
     "execution_count": 45,
     "metadata": {},
     "output_type": "execute_result"
    }
   ],
   "source": [
    "explore[\"imdb_id\"].head()"
   ]
  },
  {
   "cell_type": "markdown",
   "metadata": {},
   "source": [
    "Same as the previous, but IMDB instead of the dataset's source of TMDB. Again, no point in including this."
   ]
  },
  {
   "cell_type": "code",
   "execution_count": 46,
   "metadata": {},
   "outputs": [
    {
     "data": {
      "text/plain": [
       "count     45452\n",
       "unique       89\n",
       "top          en\n",
       "freq      32269\n",
       "Name: original_language, dtype: object"
      ]
     },
     "execution_count": 46,
     "metadata": {},
     "output_type": "execute_result"
    }
   ],
   "source": [
    "explore[\"original_language\"].describe()"
   ]
  },
  {
   "cell_type": "code",
   "execution_count": 47,
   "metadata": {},
   "outputs": [
    {
     "data": {
      "text/plain": [
       "0    zu\n",
       "1    zh\n",
       "2    zh\n",
       "3    zh\n",
       "4    zh\n",
       "Name: original_language, dtype: object"
      ]
     },
     "execution_count": 47,
     "metadata": {},
     "output_type": "execute_result"
    }
   ],
   "source": [
    "explore[\"original_language\"].head()"
   ]
  },
  {
   "cell_type": "markdown",
   "metadata": {},
   "source": [
    "There are 89 languages, and the most common language is english at 32,269. Instead of creating 89 individual indicator variables, it'd probably better to just choose a few languages to create indicator variables of, to create a more focused and practical result. A production company based in an english speaking country may make a english or chinese movie, but probably not a french or indonesian film."
   ]
  },
  {
   "cell_type": "code",
   "execution_count": 48,
   "metadata": {},
   "outputs": [
    {
     "data": {
      "text/plain": [
       "count      45463\n",
       "unique     43369\n",
       "top       Hamlet\n",
       "freq           8\n",
       "Name: original_title, dtype: object"
      ]
     },
     "execution_count": 48,
     "metadata": {},
     "output_type": "execute_result"
    }
   ],
   "source": [
    "explore[\"original_title\"].describe()"
   ]
  },
  {
   "cell_type": "code",
   "execution_count": 49,
   "metadata": {},
   "outputs": [
    {
     "data": {
      "text/plain": [
       "0    Yesterday\n",
       "1        金陵十三釵\n",
       "2     西遊記之大鬧天宮\n",
       "3       Chi bi\n",
       "4         赤壁 2\n",
       "Name: original_title, dtype: object"
      ]
     },
     "execution_count": 49,
     "metadata": {},
     "output_type": "execute_result"
    }
   ],
   "source": [
    "explore[\"original_title\"].head()"
   ]
  },
  {
   "cell_type": "markdown",
   "metadata": {},
   "source": [
    "There are 43369 unique titles, which means there are over 1000 films in this database that have names shared between each other, with the code telling us 8 alone are called \"Alice in Wonderland.\" There are also movie titles in other languages. It would be interesting to use this column in the analysis, but it seems far too hard and out of scope of this project. Various subject matter experts would probably be needed to categorize the titles in a way to allow for regression analysis."
   ]
  },
  {
   "cell_type": "code",
   "execution_count": 50,
   "metadata": {},
   "outputs": [
    {
     "data": {
      "text/plain": [
       "count                  44509\n",
       "unique                 44306\n",
       "top       No overview found.\n",
       "freq                     133\n",
       "Name: overview, dtype: object"
      ]
     },
     "execution_count": 50,
     "metadata": {},
     "output_type": "execute_result"
    }
   ],
   "source": [
    "explore[\"overview\"].describe()"
   ]
  },
  {
   "cell_type": "code",
   "execution_count": 51,
   "metadata": {},
   "outputs": [
    {
     "data": {
      "text/plain": [
       "0    After falling ill, Yesterday learns that she i...\n",
       "1    A Westerner finds refuge with a group of women...\n",
       "2    Sun Wukong, (The Monkey King) is a monkey born...\n",
       "3    In the early third century, the land of Wu is ...\n",
       "4    In 208 A.D., in the final days of the Han Dyna...\n",
       "Name: overview, dtype: object"
      ]
     },
     "execution_count": 51,
     "metadata": {},
     "output_type": "execute_result"
    }
   ],
   "source": [
    "explore[\"overview\"].head()"
   ]
  },
  {
   "cell_type": "markdown",
   "metadata": {},
   "source": [
    "The most common summary, is \"no overview found,\" aka no summary, with the rest of the movies having summaries. Similar to title, this may be interesting to analyze, especially if one could research how these taglines were used by their movies if at all, but it again seems out of scope of this project, with subject matter experts likely required to help make sense of this variable."
   ]
  },
  {
   "cell_type": "code",
   "execution_count": 52,
   "metadata": {},
   "outputs": [
    {
     "data": {
      "text/plain": [
       "count    45460.000000\n",
       "mean         2.921478\n",
       "std          6.005414\n",
       "min          0.000000\n",
       "25%          0.385948\n",
       "50%          1.127685\n",
       "75%          3.678902\n",
       "max        547.488298\n",
       "Name: popularity, dtype: float64"
      ]
     },
     "execution_count": 52,
     "metadata": {},
     "output_type": "execute_result"
    }
   ],
   "source": [
    "explore[\"popularity\"].describe()"
   ]
  },
  {
   "cell_type": "code",
   "execution_count": 53,
   "metadata": {},
   "outputs": [
    {
     "data": {
      "text/plain": [
       "0     1.678469\n",
       "1     6.587711\n",
       "2     6.793767\n",
       "3    11.867516\n",
       "4     7.309903\n",
       "Name: popularity, dtype: float64"
      ]
     },
     "execution_count": 53,
     "metadata": {},
     "output_type": "execute_result"
    }
   ],
   "source": [
    "explore[\"popularity\"].head()"
   ]
  },
  {
   "cell_type": "markdown",
   "metadata": {},
   "source": [
    "As I mentioned before in the variable overview, I really don't know what this parameter is. As such, it won't be used in this analysis."
   ]
  },
  {
   "cell_type": "code",
   "execution_count": 54,
   "metadata": {},
   "outputs": [
    {
     "data": {
      "text/plain": [
       "count                                45077\n",
       "unique                               45021\n",
       "top       /5D7UBSEgdyONE6Lql6xS7s6OLcW.jpg\n",
       "freq                                     5\n",
       "Name: poster_path, dtype: object"
      ]
     },
     "execution_count": 54,
     "metadata": {},
     "output_type": "execute_result"
    }
   ],
   "source": [
    "explore[\"poster_path\"].describe()"
   ]
  },
  {
   "cell_type": "code",
   "execution_count": 55,
   "metadata": {},
   "outputs": [
    {
     "data": {
      "text/plain": [
       "0    /wtAnXllDSP6N6zaJoG83o8t2q8c.jpg\n",
       "1    /s9Lgt28YhHIVllsF3N1FxwNuGre.jpg\n",
       "2    /nHMuPTRH2PLgeaedfJ1f9OROAv8.jpg\n",
       "3    /uMiA2c1wrySRTI3f2ij5i2aCCya.jpg\n",
       "4    /s6fUmPUR5YY8HqkCnlthHsVLoDC.jpg\n",
       "Name: poster_path, dtype: object"
      ]
     },
     "execution_count": 55,
     "metadata": {},
     "output_type": "execute_result"
    }
   ],
   "source": [
    "explore[\"poster_path\"].head()"
   ]
  },
  {
   "cell_type": "markdown",
   "metadata": {},
   "source": [
    "This is presumably the end of a url to get the movie poster. Analyzing movie posters seems interesting, but is probably its own complicated project in its own right, so this won't be used in this analysis."
   ]
  },
  {
   "cell_type": "code",
   "execution_count": 56,
   "metadata": {
    "scrolled": true
   },
   "outputs": [
    {
     "data": {
      "text/plain": [
       "count     45460\n",
       "unique    22707\n",
       "top          []\n",
       "freq      11875\n",
       "Name: production_companies, dtype: object"
      ]
     },
     "execution_count": 56,
     "metadata": {},
     "output_type": "execute_result"
    }
   ],
   "source": [
    "explore[\"production_companies\"].describe()"
   ]
  },
  {
   "cell_type": "code",
   "execution_count": 57,
   "metadata": {},
   "outputs": [
    {
     "data": {
      "text/plain": [
       "0    [{'name': 'Distant Horizons', 'id': 1066}, {'n...\n",
       "1    [{'name': 'Beijing New Picture Film Co. Ltd.',...\n",
       "2    [{'name': 'Mandarin Film', 'id': 7839}, {'name...\n",
       "3    [{'name': 'Metropolitan Filmexport', 'id': 656...\n",
       "4    [{'name': 'Metropolitan Filmexport', 'id': 656...\n",
       "Name: production_companies, dtype: object"
      ]
     },
     "execution_count": 57,
     "metadata": {},
     "output_type": "execute_result"
    }
   ],
   "source": [
    "explore[\"production_companies\"].head()"
   ]
  },
  {
   "cell_type": "markdown",
   "metadata": {},
   "source": [
    "There are 22,707 unique combinations of production companies, and the most common \"company\" is no company, perhaps a tiny film or missing data. This could be interesting to analyze, and would likely be included in similar projects with slightly different goals. However, the goal for this project is for the model to be usable to see what can predict future movie revenues, so any information this variable could give would not be very useful. Paramount can't just choose to make a movie under Universal's name."
   ]
  },
  {
   "cell_type": "code",
   "execution_count": 58,
   "metadata": {},
   "outputs": [
    {
     "data": {
      "text/plain": [
       "count                                                 45460\n",
       "unique                                                 2390\n",
       "top       [{'iso_3166_1': 'US', 'name': 'United States o...\n",
       "freq                                                  17851\n",
       "Name: production_countries, dtype: object"
      ]
     },
     "execution_count": 58,
     "metadata": {},
     "output_type": "execute_result"
    }
   ],
   "source": [
    "explore[\"production_countries\"].describe()"
   ]
  },
  {
   "cell_type": "code",
   "execution_count": 59,
   "metadata": {},
   "outputs": [
    {
     "data": {
      "text/plain": [
       "0       [{'iso_3166_1': 'ZA', 'name': 'South Africa'}]\n",
       "1    [{'iso_3166_1': 'CN', 'name': 'China'}, {'iso_...\n",
       "2              [{'iso_3166_1': 'CN', 'name': 'China'}]\n",
       "3              [{'iso_3166_1': 'CN', 'name': 'China'}]\n",
       "4              [{'iso_3166_1': 'CN', 'name': 'China'}]\n",
       "Name: production_countries, dtype: object"
      ]
     },
     "execution_count": 59,
     "metadata": {},
     "output_type": "execute_result"
    }
   ],
   "source": [
    "explore[\"production_countries\"].head()"
   ]
  },
  {
   "cell_type": "markdown",
   "metadata": {},
   "source": [
    "It seems the most common production country in this dataset is the United States, not too surprising. This won't be included for similar reasons to production companies. It also won't be included because, as movie sets become more complex and as CGI gets better at fooling the audience, the country of production doesn't seem too important in the future."
   ]
  },
  {
   "cell_type": "code",
   "execution_count": 60,
   "metadata": {},
   "outputs": [
    {
     "data": {
      "text/plain": [
       "count        45376\n",
       "unique       17333\n",
       "top       1/1/2008\n",
       "freq           136\n",
       "Name: release_date, dtype: object"
      ]
     },
     "execution_count": 60,
     "metadata": {},
     "output_type": "execute_result"
    }
   ],
   "source": [
    "explore[\"release_date\"].describe()"
   ]
  },
  {
   "cell_type": "code",
   "execution_count": 61,
   "metadata": {},
   "outputs": [
    {
     "data": {
      "text/plain": [
       "0      9/3/2004\n",
       "1    12/15/2011\n",
       "2      1/9/2014\n",
       "3     7/10/2008\n",
       "4      1/7/2009\n",
       "Name: release_date, dtype: object"
      ]
     },
     "execution_count": 61,
     "metadata": {},
     "output_type": "execute_result"
    }
   ],
   "source": [
    "explore[\"release_date\"].head()"
   ]
  },
  {
   "cell_type": "markdown",
   "metadata": {},
   "source": [
    "Surprisingly, it seems that 136 movies were released on Jan 1, 2008. This variable will be used in this project, but will not be included in the regression model. The dataset does not say if its revenue numbers are inflation adjusted or not, and regardless of that movie audiences have gotten larger over time, so it seems unfair to compare movies released in the 1970s to the movies of today. This variable will be used to subset the database on movies released past a certain point, but will not be included in the actual regression."
   ]
  },
  {
   "cell_type": "code",
   "execution_count": 62,
   "metadata": {},
   "outputs": [
    {
     "data": {
      "text/plain": [
       "count    4.546000e+04\n",
       "mean     1.120935e+07\n",
       "std      6.433225e+07\n",
       "min      0.000000e+00\n",
       "25%      0.000000e+00\n",
       "50%      0.000000e+00\n",
       "75%      0.000000e+00\n",
       "max      2.787965e+09\n",
       "Name: revenue, dtype: float64"
      ]
     },
     "execution_count": 62,
     "metadata": {},
     "output_type": "execute_result"
    }
   ],
   "source": [
    "explore[\"revenue\"].describe()"
   ]
  },
  {
   "cell_type": "code",
   "execution_count": 63,
   "metadata": {},
   "outputs": [
    {
     "data": {
      "text/plain": [
       "0            0.0\n",
       "1     95311434.0\n",
       "2            0.0\n",
       "3    127814609.0\n",
       "4    121059225.0\n",
       "Name: revenue, dtype: float64"
      ]
     },
     "execution_count": 63,
     "metadata": {},
     "output_type": "execute_result"
    }
   ],
   "source": [
    "explore[\"revenue\"].head()"
   ]
  },
  {
   "cell_type": "markdown",
   "metadata": {},
   "source": [
    "Revenue will of course be used in the project, and since it's already a numeric, it can probably be kept as is. Similar to budget, the percentiles given suggest most movies have revenue value of 0, so some subset will be done on this variable."
   ]
  },
  {
   "cell_type": "code",
   "execution_count": 64,
   "metadata": {},
   "outputs": [
    {
     "data": {
      "text/plain": [
       "count    45203.000000\n",
       "mean        94.128199\n",
       "std         38.407810\n",
       "min          0.000000\n",
       "25%         85.000000\n",
       "50%         95.000000\n",
       "75%        107.000000\n",
       "max       1256.000000\n",
       "Name: runtime, dtype: float64"
      ]
     },
     "execution_count": 64,
     "metadata": {},
     "output_type": "execute_result"
    }
   ],
   "source": [
    "explore[\"runtime\"].describe()"
   ]
  },
  {
   "cell_type": "code",
   "execution_count": 65,
   "metadata": {},
   "outputs": [
    {
     "data": {
      "text/plain": [
       "0     96.0\n",
       "1    145.0\n",
       "2    119.0\n",
       "3    150.0\n",
       "4    136.0\n",
       "Name: runtime, dtype: float64"
      ]
     },
     "execution_count": 65,
     "metadata": {},
     "output_type": "execute_result"
    }
   ],
   "source": [
    "explore[\"runtime\"].head()"
   ]
  },
  {
   "cell_type": "markdown",
   "metadata": {},
   "source": [
    "Runtime of the movies will also be included for analysis in this project, as it is something that can be controlled during production, and will probably be influential towards movie revenue. Since it's already a numeric, and is stored in an easy to use format (not something like 1.50 meaning 1 hour 50 minutes), not much transformation will be needed. Some subsetting will be done, just to ensure \"movies\" that are extremely short are not included. It's also interesting to see the average movie length is just over 90 minutes, and that one of the movies in this database is 1,256 minutes long, over 20 hours."
   ]
  },
  {
   "cell_type": "code",
   "execution_count": 66,
   "metadata": {},
   "outputs": [
    {
     "data": {
      "text/plain": [
       "count                                        45460\n",
       "unique                                        1931\n",
       "top       [{'iso_639_1': 'en', 'name': 'English'}]\n",
       "freq                                         22395\n",
       "Name: spoken_languages, dtype: object"
      ]
     },
     "execution_count": 66,
     "metadata": {},
     "output_type": "execute_result"
    }
   ],
   "source": [
    "explore[\"spoken_languages\"].describe()"
   ]
  },
  {
   "cell_type": "code",
   "execution_count": 67,
   "metadata": {},
   "outputs": [
    {
     "data": {
      "text/plain": [
       "0             [{'iso_639_1': 'zu', 'name': 'isiZulu'}]\n",
       "1    [{'iso_639_1': 'zh', 'name': '普通话'}, {'iso_639...\n",
       "2    [{'iso_639_1': 'zh', 'name': '普通话'}, {'iso_639...\n",
       "3    [{'iso_639_1': 'zh', 'name': '普通话'}, {'iso_639...\n",
       "4    [{'iso_639_1': 'zh', 'name': '普通话'}, {'iso_639...\n",
       "Name: spoken_languages, dtype: object"
      ]
     },
     "execution_count": 67,
     "metadata": {},
     "output_type": "execute_result"
    }
   ],
   "source": [
    "explore[\"spoken_languages\"].head()"
   ]
  },
  {
   "cell_type": "markdown",
   "metadata": {},
   "source": [
    "The most common spoken language is just English, and there are over 1,931 combinations of different languages. This variable will probably not be used in this project, simply because original_language can be used instead."
   ]
  },
  {
   "cell_type": "code",
   "execution_count": 68,
   "metadata": {},
   "outputs": [
    {
     "data": {
      "text/plain": [
       "count        45379\n",
       "unique           6\n",
       "top       Released\n",
       "freq         45014\n",
       "Name: status, dtype: object"
      ]
     },
     "execution_count": 68,
     "metadata": {},
     "output_type": "execute_result"
    }
   ],
   "source": [
    "explore[\"status\"].describe()"
   ]
  },
  {
   "cell_type": "code",
   "execution_count": 69,
   "metadata": {},
   "outputs": [
    {
     "data": {
      "text/plain": [
       "0    Released\n",
       "1    Released\n",
       "2    Released\n",
       "3    Released\n",
       "4    Released\n",
       "Name: status, dtype: object"
      ]
     },
     "execution_count": 69,
     "metadata": {},
     "output_type": "execute_result"
    }
   ],
   "source": [
    "explore[\"status\"].head()"
   ]
  },
  {
   "cell_type": "markdown",
   "metadata": {},
   "source": [
    "The vast majority of movies in this dataset have been released. This variable probably isn't very helpful to the project, since essentially all the movies have already been released, and a movie's release status doesn't seem very relevant to its eventual box office total."
   ]
  },
  {
   "cell_type": "code",
   "execution_count": 70,
   "metadata": {},
   "outputs": [
    {
     "data": {
      "text/plain": [
       "count                      20412\n",
       "unique                     20283\n",
       "top       Based on a true story.\n",
       "freq                           7\n",
       "Name: tagline, dtype: object"
      ]
     },
     "execution_count": 70,
     "metadata": {},
     "output_type": "execute_result"
    }
   ],
   "source": [
    "explore[\"tagline\"].describe()"
   ]
  },
  {
   "cell_type": "code",
   "execution_count": 71,
   "metadata": {},
   "outputs": [
    {
     "data": {
      "text/plain": [
       "0                            NaN\n",
       "1                            NaN\n",
       "2                Havoc in Heaven\n",
       "3    The future will be decided.\n",
       "4       Destiny Lies In The Wind\n",
       "Name: tagline, dtype: object"
      ]
     },
     "execution_count": 71,
     "metadata": {},
     "output_type": "execute_result"
    }
   ],
   "source": [
    "explore[\"tagline\"].head()"
   ]
  },
  {
   "cell_type": "markdown",
   "metadata": {},
   "source": [
    "There only being 7 instances of \"Based on a true story.\" is somewhat surprising. This variable will not be used for similar reasons to original_title, overview, and poster path; it is out of scope for this project."
   ]
  },
  {
   "cell_type": "code",
   "execution_count": 72,
   "metadata": {},
   "outputs": [
    {
     "data": {
      "text/plain": [
       "count          45460\n",
       "unique         42275\n",
       "top       Cinderella\n",
       "freq              11\n",
       "Name: title, dtype: object"
      ]
     },
     "execution_count": 72,
     "metadata": {},
     "output_type": "execute_result"
    }
   ],
   "source": [
    "explore[\"title\"].describe()"
   ]
  },
  {
   "cell_type": "code",
   "execution_count": 73,
   "metadata": {},
   "outputs": [
    {
     "data": {
      "text/plain": [
       "0             Yesterday\n",
       "1    The Flowers of War\n",
       "2       The Monkey King\n",
       "3             Red Cliff\n",
       "4     Red Cliff Part II\n",
       "Name: title, dtype: object"
      ]
     },
     "execution_count": 73,
     "metadata": {},
     "output_type": "execute_result"
    }
   ],
   "source": [
    "explore[\"title\"].head()"
   ]
  },
  {
   "cell_type": "markdown",
   "metadata": {},
   "source": [
    "Title seems to hold English translations of the titles of the film. I'm surprised to learn there have been 11 different movies titled Cinderella. This won't be used for the same reason original_title is not being used, it would be too difficult and time consuming to turn this into a variable suitable for linear regression."
   ]
  },
  {
   "cell_type": "code",
   "execution_count": 74,
   "metadata": {},
   "outputs": [
    {
     "data": {
      "text/plain": [
       "count     45460\n",
       "unique        2\n",
       "top       False\n",
       "freq      45367\n",
       "Name: video, dtype: object"
      ]
     },
     "execution_count": 74,
     "metadata": {},
     "output_type": "execute_result"
    }
   ],
   "source": [
    "explore[\"video\"].describe()"
   ]
  },
  {
   "cell_type": "code",
   "execution_count": 75,
   "metadata": {},
   "outputs": [
    {
     "data": {
      "text/plain": [
       "0    False\n",
       "1    False\n",
       "2    False\n",
       "3    False\n",
       "4    False\n",
       "Name: video, dtype: object"
      ]
     },
     "execution_count": 75,
     "metadata": {},
     "output_type": "execute_result"
    }
   ],
   "source": [
    "explore[\"video\"].head()"
   ]
  },
  {
   "cell_type": "markdown",
   "metadata": {},
   "source": [
    "Now that we can see most of the movies have False for video, but it still doesn't really reveal what video actually means. Let's leave it unused to avoid making any rash unnecessary assumptions."
   ]
  },
  {
   "cell_type": "code",
   "execution_count": 76,
   "metadata": {},
   "outputs": [
    {
     "data": {
      "text/plain": [
       "count    45460.000000\n",
       "mean         5.618207\n",
       "std          1.924216\n",
       "min          0.000000\n",
       "25%          5.000000\n",
       "50%          6.000000\n",
       "75%          6.800000\n",
       "max         10.000000\n",
       "Name: vote_average, dtype: float64"
      ]
     },
     "execution_count": 76,
     "metadata": {},
     "output_type": "execute_result"
    }
   ],
   "source": [
    "explore[\"vote_average\"].describe()"
   ]
  },
  {
   "cell_type": "code",
   "execution_count": 77,
   "metadata": {},
   "outputs": [
    {
     "data": {
      "text/plain": [
       "count    45460.000000\n",
       "mean       109.897338\n",
       "std        491.310374\n",
       "min          0.000000\n",
       "25%          3.000000\n",
       "50%         10.000000\n",
       "75%         34.000000\n",
       "max      14075.000000\n",
       "Name: vote_count, dtype: float64"
      ]
     },
     "execution_count": 77,
     "metadata": {},
     "output_type": "execute_result"
    }
   ],
   "source": [
    "explore[\"vote_count\"].describe()"
   ]
  },
  {
   "cell_type": "markdown",
   "metadata": {},
   "source": [
    "The two vote variables can be summed up the same way: a movie's voting statistics are compiled after the movie has already released, aka after the movie's revenue numbers have already happened, so vote has no influence on movie revenue performance. Neither of these variables will be used in the analysis."
   ]
  }
 ],
 "metadata": {
  "kernelspec": {
   "display_name": "Python 3",
   "language": "python",
   "name": "python3"
  },
  "language_info": {
   "codemirror_mode": {
    "name": "ipython",
    "version": 3
   },
   "file_extension": ".py",
   "mimetype": "text/x-python",
   "name": "python",
   "nbconvert_exporter": "python",
   "pygments_lexer": "ipython3",
   "version": "3.8.5"
  }
 },
 "nbformat": 4,
 "nbformat_minor": 4
}
